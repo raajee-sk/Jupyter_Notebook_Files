{
 "cells": [
  {
   "cell_type": "code",
   "execution_count": 1,
   "id": "c6d67988",
   "metadata": {},
   "outputs": [],
   "source": [
    "import pandas as pd\n",
    "import numpy as np\n",
    "import matplotlib.pyplot as plt\n",
    "import seaborn as sns"
   ]
  },
  {
   "cell_type": "code",
   "execution_count": 2,
   "id": "1f49de83",
   "metadata": {},
   "outputs": [],
   "source": [
    "df=pd.read_csv(\"Downloads/Car_Crash.csv\")"
   ]
  },
  {
   "cell_type": "code",
   "execution_count": 3,
   "id": "fb7a5119",
   "metadata": {},
   "outputs": [
    {
     "data": {
      "text/html": [
       "<div>\n",
       "<style scoped>\n",
       "    .dataframe tbody tr th:only-of-type {\n",
       "        vertical-align: middle;\n",
       "    }\n",
       "\n",
       "    .dataframe tbody tr th {\n",
       "        vertical-align: top;\n",
       "    }\n",
       "\n",
       "    .dataframe thead th {\n",
       "        text-align: right;\n",
       "    }\n",
       "</style>\n",
       "<table border=\"1\" class=\"dataframe\">\n",
       "  <thead>\n",
       "    <tr style=\"text-align: right;\">\n",
       "      <th></th>\n",
       "      <th>Unnamed: 0</th>\n",
       "      <th>dvcat</th>\n",
       "      <th>weight</th>\n",
       "      <th>Survived</th>\n",
       "      <th>airbag</th>\n",
       "      <th>seatbelt</th>\n",
       "      <th>frontal</th>\n",
       "      <th>sex</th>\n",
       "      <th>ageOFocc</th>\n",
       "      <th>yearacc</th>\n",
       "      <th>yearVeh</th>\n",
       "      <th>abcat</th>\n",
       "      <th>occRole</th>\n",
       "      <th>deploy</th>\n",
       "      <th>injSeverity</th>\n",
       "      <th>caseid</th>\n",
       "    </tr>\n",
       "  </thead>\n",
       "  <tbody>\n",
       "    <tr>\n",
       "      <th>0</th>\n",
       "      <td>0</td>\n",
       "      <td>55+</td>\n",
       "      <td>27.078</td>\n",
       "      <td>Not_Survived</td>\n",
       "      <td>none</td>\n",
       "      <td>none</td>\n",
       "      <td>1</td>\n",
       "      <td>m</td>\n",
       "      <td>32</td>\n",
       "      <td>1997</td>\n",
       "      <td>1987</td>\n",
       "      <td>unavail</td>\n",
       "      <td>driver</td>\n",
       "      <td>0</td>\n",
       "      <td>4.0</td>\n",
       "      <td>2:13:02</td>\n",
       "    </tr>\n",
       "    <tr>\n",
       "      <th>1</th>\n",
       "      <td>1</td>\n",
       "      <td>25-39</td>\n",
       "      <td>89.627</td>\n",
       "      <td>Not_Survived</td>\n",
       "      <td>airbag</td>\n",
       "      <td>belted</td>\n",
       "      <td>0</td>\n",
       "      <td>f</td>\n",
       "      <td>54</td>\n",
       "      <td>1997</td>\n",
       "      <td>1994</td>\n",
       "      <td>nodeploy</td>\n",
       "      <td>driver</td>\n",
       "      <td>0</td>\n",
       "      <td>4.0</td>\n",
       "      <td>2:17:01</td>\n",
       "    </tr>\n",
       "    <tr>\n",
       "      <th>2</th>\n",
       "      <td>2</td>\n",
       "      <td>55+</td>\n",
       "      <td>27.078</td>\n",
       "      <td>Not_Survived</td>\n",
       "      <td>none</td>\n",
       "      <td>belted</td>\n",
       "      <td>1</td>\n",
       "      <td>m</td>\n",
       "      <td>67</td>\n",
       "      <td>1997</td>\n",
       "      <td>1992</td>\n",
       "      <td>unavail</td>\n",
       "      <td>driver</td>\n",
       "      <td>0</td>\n",
       "      <td>4.0</td>\n",
       "      <td>0.138206019</td>\n",
       "    </tr>\n",
       "    <tr>\n",
       "      <th>3</th>\n",
       "      <td>3</td>\n",
       "      <td>55+</td>\n",
       "      <td>27.078</td>\n",
       "      <td>Not_Survived</td>\n",
       "      <td>none</td>\n",
       "      <td>belted</td>\n",
       "      <td>1</td>\n",
       "      <td>f</td>\n",
       "      <td>64</td>\n",
       "      <td>1997</td>\n",
       "      <td>1992</td>\n",
       "      <td>unavail</td>\n",
       "      <td>pass</td>\n",
       "      <td>0</td>\n",
       "      <td>4.0</td>\n",
       "      <td>0.138206019</td>\n",
       "    </tr>\n",
       "    <tr>\n",
       "      <th>4</th>\n",
       "      <td>4</td>\n",
       "      <td>55+</td>\n",
       "      <td>13.374</td>\n",
       "      <td>Not_Survived</td>\n",
       "      <td>none</td>\n",
       "      <td>none</td>\n",
       "      <td>1</td>\n",
       "      <td>m</td>\n",
       "      <td>23</td>\n",
       "      <td>1997</td>\n",
       "      <td>1986</td>\n",
       "      <td>unavail</td>\n",
       "      <td>driver</td>\n",
       "      <td>0</td>\n",
       "      <td>4.0</td>\n",
       "      <td>4:58:01</td>\n",
       "    </tr>\n",
       "    <tr>\n",
       "      <th>...</th>\n",
       "      <td>...</td>\n",
       "      <td>...</td>\n",
       "      <td>...</td>\n",
       "      <td>...</td>\n",
       "      <td>...</td>\n",
       "      <td>...</td>\n",
       "      <td>...</td>\n",
       "      <td>...</td>\n",
       "      <td>...</td>\n",
       "      <td>...</td>\n",
       "      <td>...</td>\n",
       "      <td>...</td>\n",
       "      <td>...</td>\n",
       "      <td>...</td>\n",
       "      <td>...</td>\n",
       "      <td>...</td>\n",
       "    </tr>\n",
       "    <tr>\n",
       "      <th>11212</th>\n",
       "      <td>11212</td>\n",
       "      <td>25-39</td>\n",
       "      <td>3179.688</td>\n",
       "      <td>survived</td>\n",
       "      <td>none</td>\n",
       "      <td>belted</td>\n",
       "      <td>1</td>\n",
       "      <td>m</td>\n",
       "      <td>17</td>\n",
       "      <td>2002</td>\n",
       "      <td>1985</td>\n",
       "      <td>unavail</td>\n",
       "      <td>driver</td>\n",
       "      <td>0</td>\n",
       "      <td>0.0</td>\n",
       "      <td>82:107:1</td>\n",
       "    </tr>\n",
       "    <tr>\n",
       "      <th>11213</th>\n",
       "      <td>11213</td>\n",
       "      <td>24-Oct</td>\n",
       "      <td>71.228</td>\n",
       "      <td>survived</td>\n",
       "      <td>airbag</td>\n",
       "      <td>belted</td>\n",
       "      <td>1</td>\n",
       "      <td>m</td>\n",
       "      <td>54</td>\n",
       "      <td>2002</td>\n",
       "      <td>2002</td>\n",
       "      <td>nodeploy</td>\n",
       "      <td>driver</td>\n",
       "      <td>0</td>\n",
       "      <td>2.0</td>\n",
       "      <td>82:108:2</td>\n",
       "    </tr>\n",
       "    <tr>\n",
       "      <th>11214</th>\n",
       "      <td>11214</td>\n",
       "      <td>24-Oct</td>\n",
       "      <td>10.474</td>\n",
       "      <td>survived</td>\n",
       "      <td>airbag</td>\n",
       "      <td>belted</td>\n",
       "      <td>1</td>\n",
       "      <td>f</td>\n",
       "      <td>27</td>\n",
       "      <td>2002</td>\n",
       "      <td>1990</td>\n",
       "      <td>deploy</td>\n",
       "      <td>driver</td>\n",
       "      <td>1</td>\n",
       "      <td>3.0</td>\n",
       "      <td>82:110:1</td>\n",
       "    </tr>\n",
       "    <tr>\n",
       "      <th>11215</th>\n",
       "      <td>11215</td>\n",
       "      <td>25-39</td>\n",
       "      <td>10.474</td>\n",
       "      <td>survived</td>\n",
       "      <td>airbag</td>\n",
       "      <td>belted</td>\n",
       "      <td>1</td>\n",
       "      <td>f</td>\n",
       "      <td>18</td>\n",
       "      <td>2002</td>\n",
       "      <td>1999</td>\n",
       "      <td>deploy</td>\n",
       "      <td>driver</td>\n",
       "      <td>1</td>\n",
       "      <td>0.0</td>\n",
       "      <td>82:110:2</td>\n",
       "    </tr>\n",
       "    <tr>\n",
       "      <th>11216</th>\n",
       "      <td>11216</td>\n",
       "      <td>25-39</td>\n",
       "      <td>10.474</td>\n",
       "      <td>survived</td>\n",
       "      <td>airbag</td>\n",
       "      <td>belted</td>\n",
       "      <td>1</td>\n",
       "      <td>m</td>\n",
       "      <td>17</td>\n",
       "      <td>2002</td>\n",
       "      <td>1999</td>\n",
       "      <td>deploy</td>\n",
       "      <td>pass</td>\n",
       "      <td>1</td>\n",
       "      <td>0.0</td>\n",
       "      <td>82:110:2</td>\n",
       "    </tr>\n",
       "  </tbody>\n",
       "</table>\n",
       "<p>11217 rows × 16 columns</p>\n",
       "</div>"
      ],
      "text/plain": [
       "       Unnamed: 0   dvcat    weight      Survived  airbag seatbelt  frontal  \\\n",
       "0               0     55+    27.078  Not_Survived    none     none        1   \n",
       "1               1   25-39    89.627  Not_Survived  airbag   belted        0   \n",
       "2               2     55+    27.078  Not_Survived    none   belted        1   \n",
       "3               3     55+    27.078  Not_Survived    none   belted        1   \n",
       "4               4     55+    13.374  Not_Survived    none     none        1   \n",
       "...           ...     ...       ...           ...     ...      ...      ...   \n",
       "11212       11212   25-39  3179.688      survived    none   belted        1   \n",
       "11213       11213  24-Oct    71.228      survived  airbag   belted        1   \n",
       "11214       11214  24-Oct    10.474      survived  airbag   belted        1   \n",
       "11215       11215   25-39    10.474      survived  airbag   belted        1   \n",
       "11216       11216   25-39    10.474      survived  airbag   belted        1   \n",
       "\n",
       "      sex  ageOFocc  yearacc  yearVeh     abcat occRole  deploy  injSeverity  \\\n",
       "0       m        32     1997     1987   unavail  driver       0          4.0   \n",
       "1       f        54     1997     1994  nodeploy  driver       0          4.0   \n",
       "2       m        67     1997     1992   unavail  driver       0          4.0   \n",
       "3       f        64     1997     1992   unavail    pass       0          4.0   \n",
       "4       m        23     1997     1986   unavail  driver       0          4.0   \n",
       "...    ..       ...      ...      ...       ...     ...     ...          ...   \n",
       "11212   m        17     2002     1985   unavail  driver       0          0.0   \n",
       "11213   m        54     2002     2002  nodeploy  driver       0          2.0   \n",
       "11214   f        27     2002     1990    deploy  driver       1          3.0   \n",
       "11215   f        18     2002     1999    deploy  driver       1          0.0   \n",
       "11216   m        17     2002     1999    deploy    pass       1          0.0   \n",
       "\n",
       "            caseid  \n",
       "0          2:13:02  \n",
       "1          2:17:01  \n",
       "2      0.138206019  \n",
       "3      0.138206019  \n",
       "4          4:58:01  \n",
       "...            ...  \n",
       "11212     82:107:1  \n",
       "11213     82:108:2  \n",
       "11214     82:110:1  \n",
       "11215     82:110:2  \n",
       "11216     82:110:2  \n",
       "\n",
       "[11217 rows x 16 columns]"
      ]
     },
     "execution_count": 3,
     "metadata": {},
     "output_type": "execute_result"
    }
   ],
   "source": [
    "df"
   ]
  },
  {
   "cell_type": "code",
   "execution_count": 4,
   "id": "9d836908",
   "metadata": {},
   "outputs": [
    {
     "data": {
      "text/plain": [
       "(11217, 16)"
      ]
     },
     "execution_count": 4,
     "metadata": {},
     "output_type": "execute_result"
    }
   ],
   "source": [
    "df.shape"
   ]
  },
  {
   "cell_type": "code",
   "execution_count": 5,
   "id": "8d8e42a3",
   "metadata": {},
   "outputs": [
    {
     "name": "stdout",
     "output_type": "stream",
     "text": [
      "<class 'pandas.core.frame.DataFrame'>\n",
      "RangeIndex: 11217 entries, 0 to 11216\n",
      "Data columns (total 16 columns):\n",
      " #   Column       Non-Null Count  Dtype  \n",
      "---  ------       --------------  -----  \n",
      " 0   Unnamed: 0   11217 non-null  int64  \n",
      " 1   dvcat        11217 non-null  object \n",
      " 2   weight       11217 non-null  float64\n",
      " 3   Survived     11217 non-null  object \n",
      " 4   airbag       11217 non-null  object \n",
      " 5   seatbelt     11217 non-null  object \n",
      " 6   frontal      11217 non-null  int64  \n",
      " 7   sex          11217 non-null  object \n",
      " 8   ageOFocc     11217 non-null  int64  \n",
      " 9   yearacc      11217 non-null  int64  \n",
      " 10  yearVeh      11217 non-null  int64  \n",
      " 11  abcat        11217 non-null  object \n",
      " 12  occRole      11217 non-null  object \n",
      " 13  deploy       11217 non-null  int64  \n",
      " 14  injSeverity  11140 non-null  float64\n",
      " 15  caseid       11217 non-null  object \n",
      "dtypes: float64(2), int64(6), object(8)\n",
      "memory usage: 1.4+ MB\n"
     ]
    }
   ],
   "source": [
    "df.info()"
   ]
  },
  {
   "cell_type": "code",
   "execution_count": 6,
   "id": "171a8083",
   "metadata": {},
   "outputs": [
    {
     "data": {
      "text/plain": [
       "Unnamed: 0      0\n",
       "dvcat           0\n",
       "weight          0\n",
       "Survived        0\n",
       "airbag          0\n",
       "seatbelt        0\n",
       "frontal         0\n",
       "sex             0\n",
       "ageOFocc        0\n",
       "yearacc         0\n",
       "yearVeh         0\n",
       "abcat           0\n",
       "occRole         0\n",
       "deploy          0\n",
       "injSeverity    77\n",
       "caseid          0\n",
       "dtype: int64"
      ]
     },
     "execution_count": 6,
     "metadata": {},
     "output_type": "execute_result"
    }
   ],
   "source": [
    "df.isnull().sum()"
   ]
  },
  {
   "cell_type": "code",
   "execution_count": 7,
   "id": "e94ac585",
   "metadata": {},
   "outputs": [],
   "source": [
    "#column injSeverity have null values.impute the null values with their mean value/median value."
   ]
  },
  {
   "cell_type": "code",
   "execution_count": 8,
   "id": "3a0a2ac7",
   "metadata": {},
   "outputs": [
    {
     "data": {
      "text/plain": [
       "array([ 4.,  3.,  5.,  2.,  0.,  1., nan])"
      ]
     },
     "execution_count": 8,
     "metadata": {},
     "output_type": "execute_result"
    }
   ],
   "source": [
    "df[\"injSeverity\"].unique()"
   ]
  },
  {
   "cell_type": "code",
   "execution_count": 9,
   "id": "e675a932",
   "metadata": {},
   "outputs": [
    {
     "data": {
      "text/html": [
       "<div>\n",
       "<style scoped>\n",
       "    .dataframe tbody tr th:only-of-type {\n",
       "        vertical-align: middle;\n",
       "    }\n",
       "\n",
       "    .dataframe tbody tr th {\n",
       "        vertical-align: top;\n",
       "    }\n",
       "\n",
       "    .dataframe thead th {\n",
       "        text-align: right;\n",
       "    }\n",
       "</style>\n",
       "<table border=\"1\" class=\"dataframe\">\n",
       "  <thead>\n",
       "    <tr style=\"text-align: right;\">\n",
       "      <th></th>\n",
       "      <th>Features</th>\n",
       "      <th>Unique</th>\n",
       "    </tr>\n",
       "  </thead>\n",
       "  <tbody>\n",
       "    <tr>\n",
       "      <th>0</th>\n",
       "      <td>Unnamed: 0</td>\n",
       "      <td>[0, 1, 2, 3, 4, 5, 6, 7, 8, 9, 10, 11, 12, 13,...</td>\n",
       "    </tr>\n",
       "    <tr>\n",
       "      <th>1</th>\n",
       "      <td>dvcat</td>\n",
       "      <td>[55+, 25-39, 24-Oct, 40-54, 1-9km/h]</td>\n",
       "    </tr>\n",
       "    <tr>\n",
       "      <th>2</th>\n",
       "      <td>weight</td>\n",
       "      <td>[27.078, 89.627, 13.374, 12.383, 15.355, 29.65...</td>\n",
       "    </tr>\n",
       "    <tr>\n",
       "      <th>3</th>\n",
       "      <td>Survived</td>\n",
       "      <td>[Not_Survived, survived]</td>\n",
       "    </tr>\n",
       "    <tr>\n",
       "      <th>4</th>\n",
       "      <td>airbag</td>\n",
       "      <td>[none, airbag]</td>\n",
       "    </tr>\n",
       "    <tr>\n",
       "      <th>5</th>\n",
       "      <td>seatbelt</td>\n",
       "      <td>[none, belted]</td>\n",
       "    </tr>\n",
       "    <tr>\n",
       "      <th>6</th>\n",
       "      <td>frontal</td>\n",
       "      <td>[1, 0]</td>\n",
       "    </tr>\n",
       "    <tr>\n",
       "      <th>7</th>\n",
       "      <td>sex</td>\n",
       "      <td>[m, f]</td>\n",
       "    </tr>\n",
       "    <tr>\n",
       "      <th>8</th>\n",
       "      <td>ageOFocc</td>\n",
       "      <td>[32, 54, 67, 64, 23, 77, 34, 37, 33, 84, 87, 3...</td>\n",
       "    </tr>\n",
       "    <tr>\n",
       "      <th>9</th>\n",
       "      <td>yearacc</td>\n",
       "      <td>[1997, 1998, 1999, 2000, 2001, 2002]</td>\n",
       "    </tr>\n",
       "    <tr>\n",
       "      <th>10</th>\n",
       "      <td>yearVeh</td>\n",
       "      <td>[1987, 1994, 1992, 1986, 1990, 1995, 1996, 198...</td>\n",
       "    </tr>\n",
       "    <tr>\n",
       "      <th>11</th>\n",
       "      <td>abcat</td>\n",
       "      <td>[unavail, nodeploy, deploy]</td>\n",
       "    </tr>\n",
       "    <tr>\n",
       "      <th>12</th>\n",
       "      <td>occRole</td>\n",
       "      <td>[driver, pass]</td>\n",
       "    </tr>\n",
       "    <tr>\n",
       "      <th>13</th>\n",
       "      <td>deploy</td>\n",
       "      <td>[0, 1]</td>\n",
       "    </tr>\n",
       "    <tr>\n",
       "      <th>14</th>\n",
       "      <td>injSeverity</td>\n",
       "      <td>[4.0, 3.0, 5.0, 2.0, 0.0, 1.0, nan]</td>\n",
       "    </tr>\n",
       "    <tr>\n",
       "      <th>15</th>\n",
       "      <td>caseid</td>\n",
       "      <td>[2:13:02, 2:17:01, 0.138206019, 4:58:01, 0.233...</td>\n",
       "    </tr>\n",
       "  </tbody>\n",
       "</table>\n",
       "</div>"
      ],
      "text/plain": [
       "       Features                                             Unique\n",
       "0    Unnamed: 0  [0, 1, 2, 3, 4, 5, 6, 7, 8, 9, 10, 11, 12, 13,...\n",
       "1         dvcat               [55+, 25-39, 24-Oct, 40-54, 1-9km/h]\n",
       "2        weight  [27.078, 89.627, 13.374, 12.383, 15.355, 29.65...\n",
       "3      Survived                           [Not_Survived, survived]\n",
       "4        airbag                                     [none, airbag]\n",
       "5      seatbelt                                     [none, belted]\n",
       "6       frontal                                             [1, 0]\n",
       "7           sex                                             [m, f]\n",
       "8      ageOFocc  [32, 54, 67, 64, 23, 77, 34, 37, 33, 84, 87, 3...\n",
       "9       yearacc               [1997, 1998, 1999, 2000, 2001, 2002]\n",
       "10      yearVeh  [1987, 1994, 1992, 1986, 1990, 1995, 1996, 198...\n",
       "11        abcat                        [unavail, nodeploy, deploy]\n",
       "12      occRole                                     [driver, pass]\n",
       "13       deploy                                             [0, 1]\n",
       "14  injSeverity                [4.0, 3.0, 5.0, 2.0, 0.0, 1.0, nan]\n",
       "15       caseid  [2:13:02, 2:17:01, 0.138206019, 4:58:01, 0.233..."
      ]
     },
     "execution_count": 9,
     "metadata": {},
     "output_type": "execute_result"
    }
   ],
   "source": [
    "features=df.columns\n",
    "def unique_check(df):\n",
    "    unique=[]\n",
    "    for i in features:\n",
    "        uni=df[i].unique()   \n",
    "        unique.append(uni)\n",
    "        \n",
    "    uni=pd.Series(unique)\n",
    "    \n",
    "    feat=pd.Series(features)\n",
    "    \n",
    "    unique=pd.concat([feat,uni],axis=1,keys=[\"Features\",\"Unique\"])  \n",
    "    return unique   \n",
    "unique_check(df)        "
   ]
  },
  {
   "cell_type": "code",
   "execution_count": 10,
   "id": "95735306",
   "metadata": {},
   "outputs": [],
   "source": [
    "#check injSeverity column have any outliers before impute."
   ]
  },
  {
   "cell_type": "code",
   "execution_count": 11,
   "id": "b5733d52",
   "metadata": {},
   "outputs": [
    {
     "data": {
      "text/plain": [
       "<Axes: >"
      ]
     },
     "execution_count": 11,
     "metadata": {},
     "output_type": "execute_result"
    },
    {
     "data": {
      "image/png": "[encoded data removed]",
      "text/plain": [
       "<Figure size 640x480 with 1 Axes>"
      ]
     },
     "metadata": {},
     "output_type": "display_data"
    }
   ],
   "source": [
    "sns.boxplot(df[\"injSeverity\"])"
   ]
  },
  {
   "cell_type": "code",
   "execution_count": 12,
   "id": "79fbdfd3",
   "metadata": {},
   "outputs": [],
   "source": [
    "#column injSeverity does not have any outliers so impute mean value for null values."
   ]
  },
  {
   "cell_type": "code",
   "execution_count": 13,
   "id": "c5561668",
   "metadata": {},
   "outputs": [],
   "source": [
    "df[\"injSeverity\"].fillna(df[\"injSeverity\"].mean(),inplace=True)"
   ]
  },
  {
   "cell_type": "code",
   "execution_count": 14,
   "id": "bb67b1ac",
   "metadata": {},
   "outputs": [
    {
     "data": {
      "text/plain": [
       "Unnamed: 0     0\n",
       "dvcat          0\n",
       "weight         0\n",
       "Survived       0\n",
       "airbag         0\n",
       "seatbelt       0\n",
       "frontal        0\n",
       "sex            0\n",
       "ageOFocc       0\n",
       "yearacc        0\n",
       "yearVeh        0\n",
       "abcat          0\n",
       "occRole        0\n",
       "deploy         0\n",
       "injSeverity    0\n",
       "caseid         0\n",
       "dtype: int64"
      ]
     },
     "execution_count": 14,
     "metadata": {},
     "output_type": "execute_result"
    }
   ],
   "source": [
    "df.isnull().sum()"
   ]
  },
  {
   "cell_type": "code",
   "execution_count": 15,
   "id": "fbb89ea2",
   "metadata": {},
   "outputs": [],
   "source": [
    "#check the outliers for full dataset"
   ]
  },
  {
   "cell_type": "code",
   "execution_count": 16,
   "id": "27787421",
   "metadata": {},
   "outputs": [
    {
     "data": {
      "text/plain": [
       "<Axes: >"
      ]
     },
     "execution_count": 16,
     "metadata": {},
     "output_type": "execute_result"
    },
    {
     "data": {
      "image/png": "[encoded data removed]",
      "text/plain": [
       "<Figure size 640x480 with 1 Axes>"
      ]
     },
     "metadata": {},
     "output_type": "display_data"
    }
   ],
   "source": [
    "sns.boxplot(df,orient='h')"
   ]
  },
  {
   "cell_type": "code",
   "execution_count": 17,
   "id": "57f005cf",
   "metadata": {},
   "outputs": [],
   "source": [
    "#column weight has outliers so treat the outliers with help of IQR method"
   ]
  },
  {
   "cell_type": "code",
   "execution_count": 18,
   "id": "7010c0a6",
   "metadata": {},
   "outputs": [],
   "source": [
    "def remove_outlier(col):\n",
    "    sorted(col)\n",
    "    Q1,Q3=np.percentile(col,[25,75])\n",
    "    IQR=Q3-Q1\n",
    "    lower_range=Q1-(1.5*IQR)\n",
    "    upper_range=Q3+(1.5*IQR)\n",
    "    return lower_range,upper_range"
   ]
  },
  {
   "cell_type": "code",
   "execution_count": 19,
   "id": "05c376a8",
   "metadata": {},
   "outputs": [],
   "source": [
    "outlier=[\"weight\",\"ageOFocc\"]"
   ]
  },
  {
   "cell_type": "code",
   "execution_count": 20,
   "id": "46834dc0",
   "metadata": {},
   "outputs": [],
   "source": [
    "for i in outlier:\n",
    "    lr,ur=remove_outlier(df[i])\n",
    "    df[i]=np.where(df[i]>ur,ur,df[i])\n",
    "    df[i]=np.where(df[i]<lr,lr,df[i])"
   ]
  },
  {
   "cell_type": "code",
   "execution_count": 21,
   "id": "80cb30e1",
   "metadata": {},
   "outputs": [
    {
     "data": {
      "text/plain": [
       "<Axes: >"
      ]
     },
     "execution_count": 21,
     "metadata": {},
     "output_type": "execute_result"
    },
    {
     "data": {
      "image/png": "[encoded data removed]",
      "text/plain": [
       "<Figure size 640x480 with 1 Axes>"
      ]
     },
     "metadata": {},
     "output_type": "display_data"
    }
   ],
   "source": [
    "sns.boxplot(df,orient='h')"
   ]
  },
  {
   "cell_type": "code",
   "execution_count": 22,
   "id": "bf8e12e4",
   "metadata": {},
   "outputs": [
    {
     "data": {
      "text/html": [
       "<div>\n",
       "<style scoped>\n",
       "    .dataframe tbody tr th:only-of-type {\n",
       "        vertical-align: middle;\n",
       "    }\n",
       "\n",
       "    .dataframe tbody tr th {\n",
       "        vertical-align: top;\n",
       "    }\n",
       "\n",
       "    .dataframe thead th {\n",
       "        text-align: right;\n",
       "    }\n",
       "</style>\n",
       "<table border=\"1\" class=\"dataframe\">\n",
       "  <thead>\n",
       "    <tr style=\"text-align: right;\">\n",
       "      <th></th>\n",
       "      <th>Unnamed: 0</th>\n",
       "      <th>weight</th>\n",
       "      <th>frontal</th>\n",
       "      <th>ageOFocc</th>\n",
       "      <th>yearacc</th>\n",
       "      <th>yearVeh</th>\n",
       "      <th>deploy</th>\n",
       "      <th>injSeverity</th>\n",
       "    </tr>\n",
       "  </thead>\n",
       "  <tbody>\n",
       "    <tr>\n",
       "      <th>count</th>\n",
       "      <td>11217.000000</td>\n",
       "      <td>11217.000000</td>\n",
       "      <td>11217.000000</td>\n",
       "      <td>11217.000000</td>\n",
       "      <td>11217.000000</td>\n",
       "      <td>11217.000000</td>\n",
       "      <td>11217.000000</td>\n",
       "      <td>11217.000000</td>\n",
       "    </tr>\n",
       "    <tr>\n",
       "      <th>mean</th>\n",
       "      <td>5608.000000</td>\n",
       "      <td>219.454706</td>\n",
       "      <td>0.644022</td>\n",
       "      <td>37.408220</td>\n",
       "      <td>2001.103236</td>\n",
       "      <td>1994.177944</td>\n",
       "      <td>0.389141</td>\n",
       "      <td>1.825583</td>\n",
       "    </tr>\n",
       "    <tr>\n",
       "      <th>std</th>\n",
       "      <td>3238.213319</td>\n",
       "      <td>261.963636</td>\n",
       "      <td>0.478830</td>\n",
       "      <td>18.136557</td>\n",
       "      <td>1.056805</td>\n",
       "      <td>5.658704</td>\n",
       "      <td>0.487577</td>\n",
       "      <td>1.373795</td>\n",
       "    </tr>\n",
       "    <tr>\n",
       "      <th>min</th>\n",
       "      <td>0.000000</td>\n",
       "      <td>0.000000</td>\n",
       "      <td>0.000000</td>\n",
       "      <td>16.000000</td>\n",
       "      <td>1997.000000</td>\n",
       "      <td>1953.000000</td>\n",
       "      <td>0.000000</td>\n",
       "      <td>0.000000</td>\n",
       "    </tr>\n",
       "    <tr>\n",
       "      <th>25%</th>\n",
       "      <td>2804.000000</td>\n",
       "      <td>28.292000</td>\n",
       "      <td>0.000000</td>\n",
       "      <td>22.000000</td>\n",
       "      <td>2001.000000</td>\n",
       "      <td>1991.000000</td>\n",
       "      <td>0.000000</td>\n",
       "      <td>1.000000</td>\n",
       "    </tr>\n",
       "    <tr>\n",
       "      <th>50%</th>\n",
       "      <td>5608.000000</td>\n",
       "      <td>82.195000</td>\n",
       "      <td>1.000000</td>\n",
       "      <td>33.000000</td>\n",
       "      <td>2001.000000</td>\n",
       "      <td>1995.000000</td>\n",
       "      <td>0.000000</td>\n",
       "      <td>2.000000</td>\n",
       "    </tr>\n",
       "    <tr>\n",
       "      <th>75%</th>\n",
       "      <td>8412.000000</td>\n",
       "      <td>324.056000</td>\n",
       "      <td>1.000000</td>\n",
       "      <td>48.000000</td>\n",
       "      <td>2002.000000</td>\n",
       "      <td>1999.000000</td>\n",
       "      <td>1.000000</td>\n",
       "      <td>3.000000</td>\n",
       "    </tr>\n",
       "    <tr>\n",
       "      <th>max</th>\n",
       "      <td>11216.000000</td>\n",
       "      <td>767.702000</td>\n",
       "      <td>1.000000</td>\n",
       "      <td>87.000000</td>\n",
       "      <td>2002.000000</td>\n",
       "      <td>2003.000000</td>\n",
       "      <td>1.000000</td>\n",
       "      <td>5.000000</td>\n",
       "    </tr>\n",
       "  </tbody>\n",
       "</table>\n",
       "</div>"
      ],
      "text/plain": [
       "         Unnamed: 0        weight       frontal      ageOFocc       yearacc  \\\n",
       "count  11217.000000  11217.000000  11217.000000  11217.000000  11217.000000   \n",
       "mean    5608.000000    219.454706      0.644022     37.408220   2001.103236   \n",
       "std     3238.213319    261.963636      0.478830     18.136557      1.056805   \n",
       "min        0.000000      0.000000      0.000000     16.000000   1997.000000   \n",
       "25%     2804.000000     28.292000      0.000000     22.000000   2001.000000   \n",
       "50%     5608.000000     82.195000      1.000000     33.000000   2001.000000   \n",
       "75%     8412.000000    324.056000      1.000000     48.000000   2002.000000   \n",
       "max    11216.000000    767.702000      1.000000     87.000000   2002.000000   \n",
       "\n",
       "            yearVeh        deploy   injSeverity  \n",
       "count  11217.000000  11217.000000  11217.000000  \n",
       "mean    1994.177944      0.389141      1.825583  \n",
       "std        5.658704      0.487577      1.373795  \n",
       "min     1953.000000      0.000000      0.000000  \n",
       "25%     1991.000000      0.000000      1.000000  \n",
       "50%     1995.000000      0.000000      2.000000  \n",
       "75%     1999.000000      1.000000      3.000000  \n",
       "max     2003.000000      1.000000      5.000000  "
      ]
     },
     "execution_count": 22,
     "metadata": {},
     "output_type": "execute_result"
    }
   ],
   "source": [
    "df.describe()"
   ]
  },
  {
   "cell_type": "code",
   "execution_count": 23,
   "id": "dceb7b03",
   "metadata": {},
   "outputs": [],
   "source": [
    "#drop unnecessary columns from the dataset"
   ]
  },
  {
   "cell_type": "code",
   "execution_count": 24,
   "id": "c8414067",
   "metadata": {},
   "outputs": [
    {
     "data": {
      "text/plain": [
       "Index(['Unnamed: 0', 'dvcat', 'weight', 'Survived', 'airbag', 'seatbelt',\n",
       "       'frontal', 'sex', 'ageOFocc', 'yearacc', 'yearVeh', 'abcat', 'occRole',\n",
       "       'deploy', 'injSeverity', 'caseid'],\n",
       "      dtype='object')"
      ]
     },
     "execution_count": 24,
     "metadata": {},
     "output_type": "execute_result"
    }
   ],
   "source": [
    "df.columns"
   ]
  },
  {
   "cell_type": "code",
   "execution_count": 25,
   "id": "b24feca0",
   "metadata": {},
   "outputs": [],
   "source": [
    "df.drop([\"Unnamed: 0\",\"yearacc\",\"yearVeh\",\"injSeverity\",\"caseid\"],axis=1,inplace=True)"
   ]
  },
  {
   "cell_type": "code",
   "execution_count": 26,
   "id": "9096face",
   "metadata": {},
   "outputs": [],
   "source": [
    "df1=df.drop([\"Survived\"],axis=1)"
   ]
  },
  {
   "cell_type": "code",
   "execution_count": 27,
   "id": "17f04afe",
   "metadata": {},
   "outputs": [
    {
     "data": {
      "text/html": [
       "<div>\n",
       "<style scoped>\n",
       "    .dataframe tbody tr th:only-of-type {\n",
       "        vertical-align: middle;\n",
       "    }\n",
       "\n",
       "    .dataframe tbody tr th {\n",
       "        vertical-align: top;\n",
       "    }\n",
       "\n",
       "    .dataframe thead th {\n",
       "        text-align: right;\n",
       "    }\n",
       "</style>\n",
       "<table border=\"1\" class=\"dataframe\">\n",
       "  <thead>\n",
       "    <tr style=\"text-align: right;\">\n",
       "      <th></th>\n",
       "      <th>dvcat</th>\n",
       "      <th>weight</th>\n",
       "      <th>airbag</th>\n",
       "      <th>seatbelt</th>\n",
       "      <th>frontal</th>\n",
       "      <th>sex</th>\n",
       "      <th>ageOFocc</th>\n",
       "      <th>abcat</th>\n",
       "      <th>occRole</th>\n",
       "      <th>deploy</th>\n",
       "    </tr>\n",
       "  </thead>\n",
       "  <tbody>\n",
       "    <tr>\n",
       "      <th>0</th>\n",
       "      <td>55+</td>\n",
       "      <td>27.078</td>\n",
       "      <td>none</td>\n",
       "      <td>none</td>\n",
       "      <td>1</td>\n",
       "      <td>m</td>\n",
       "      <td>32.0</td>\n",
       "      <td>unavail</td>\n",
       "      <td>driver</td>\n",
       "      <td>0</td>\n",
       "    </tr>\n",
       "    <tr>\n",
       "      <th>1</th>\n",
       "      <td>25-39</td>\n",
       "      <td>89.627</td>\n",
       "      <td>airbag</td>\n",
       "      <td>belted</td>\n",
       "      <td>0</td>\n",
       "      <td>f</td>\n",
       "      <td>54.0</td>\n",
       "      <td>nodeploy</td>\n",
       "      <td>driver</td>\n",
       "      <td>0</td>\n",
       "    </tr>\n",
       "    <tr>\n",
       "      <th>2</th>\n",
       "      <td>55+</td>\n",
       "      <td>27.078</td>\n",
       "      <td>none</td>\n",
       "      <td>belted</td>\n",
       "      <td>1</td>\n",
       "      <td>m</td>\n",
       "      <td>67.0</td>\n",
       "      <td>unavail</td>\n",
       "      <td>driver</td>\n",
       "      <td>0</td>\n",
       "    </tr>\n",
       "    <tr>\n",
       "      <th>3</th>\n",
       "      <td>55+</td>\n",
       "      <td>27.078</td>\n",
       "      <td>none</td>\n",
       "      <td>belted</td>\n",
       "      <td>1</td>\n",
       "      <td>f</td>\n",
       "      <td>64.0</td>\n",
       "      <td>unavail</td>\n",
       "      <td>pass</td>\n",
       "      <td>0</td>\n",
       "    </tr>\n",
       "    <tr>\n",
       "      <th>4</th>\n",
       "      <td>55+</td>\n",
       "      <td>13.374</td>\n",
       "      <td>none</td>\n",
       "      <td>none</td>\n",
       "      <td>1</td>\n",
       "      <td>m</td>\n",
       "      <td>23.0</td>\n",
       "      <td>unavail</td>\n",
       "      <td>driver</td>\n",
       "      <td>0</td>\n",
       "    </tr>\n",
       "    <tr>\n",
       "      <th>...</th>\n",
       "      <td>...</td>\n",
       "      <td>...</td>\n",
       "      <td>...</td>\n",
       "      <td>...</td>\n",
       "      <td>...</td>\n",
       "      <td>...</td>\n",
       "      <td>...</td>\n",
       "      <td>...</td>\n",
       "      <td>...</td>\n",
       "      <td>...</td>\n",
       "    </tr>\n",
       "    <tr>\n",
       "      <th>11212</th>\n",
       "      <td>25-39</td>\n",
       "      <td>767.702</td>\n",
       "      <td>none</td>\n",
       "      <td>belted</td>\n",
       "      <td>1</td>\n",
       "      <td>m</td>\n",
       "      <td>17.0</td>\n",
       "      <td>unavail</td>\n",
       "      <td>driver</td>\n",
       "      <td>0</td>\n",
       "    </tr>\n",
       "    <tr>\n",
       "      <th>11213</th>\n",
       "      <td>24-Oct</td>\n",
       "      <td>71.228</td>\n",
       "      <td>airbag</td>\n",
       "      <td>belted</td>\n",
       "      <td>1</td>\n",
       "      <td>m</td>\n",
       "      <td>54.0</td>\n",
       "      <td>nodeploy</td>\n",
       "      <td>driver</td>\n",
       "      <td>0</td>\n",
       "    </tr>\n",
       "    <tr>\n",
       "      <th>11214</th>\n",
       "      <td>24-Oct</td>\n",
       "      <td>10.474</td>\n",
       "      <td>airbag</td>\n",
       "      <td>belted</td>\n",
       "      <td>1</td>\n",
       "      <td>f</td>\n",
       "      <td>27.0</td>\n",
       "      <td>deploy</td>\n",
       "      <td>driver</td>\n",
       "      <td>1</td>\n",
       "    </tr>\n",
       "    <tr>\n",
       "      <th>11215</th>\n",
       "      <td>25-39</td>\n",
       "      <td>10.474</td>\n",
       "      <td>airbag</td>\n",
       "      <td>belted</td>\n",
       "      <td>1</td>\n",
       "      <td>f</td>\n",
       "      <td>18.0</td>\n",
       "      <td>deploy</td>\n",
       "      <td>driver</td>\n",
       "      <td>1</td>\n",
       "    </tr>\n",
       "    <tr>\n",
       "      <th>11216</th>\n",
       "      <td>25-39</td>\n",
       "      <td>10.474</td>\n",
       "      <td>airbag</td>\n",
       "      <td>belted</td>\n",
       "      <td>1</td>\n",
       "      <td>m</td>\n",
       "      <td>17.0</td>\n",
       "      <td>deploy</td>\n",
       "      <td>pass</td>\n",
       "      <td>1</td>\n",
       "    </tr>\n",
       "  </tbody>\n",
       "</table>\n",
       "<p>11217 rows × 10 columns</p>\n",
       "</div>"
      ],
      "text/plain": [
       "        dvcat   weight  airbag seatbelt  frontal sex  ageOFocc     abcat  \\\n",
       "0         55+   27.078    none     none        1   m      32.0   unavail   \n",
       "1       25-39   89.627  airbag   belted        0   f      54.0  nodeploy   \n",
       "2         55+   27.078    none   belted        1   m      67.0   unavail   \n",
       "3         55+   27.078    none   belted        1   f      64.0   unavail   \n",
       "4         55+   13.374    none     none        1   m      23.0   unavail   \n",
       "...       ...      ...     ...      ...      ...  ..       ...       ...   \n",
       "11212   25-39  767.702    none   belted        1   m      17.0   unavail   \n",
       "11213  24-Oct   71.228  airbag   belted        1   m      54.0  nodeploy   \n",
       "11214  24-Oct   10.474  airbag   belted        1   f      27.0    deploy   \n",
       "11215   25-39   10.474  airbag   belted        1   f      18.0    deploy   \n",
       "11216   25-39   10.474  airbag   belted        1   m      17.0    deploy   \n",
       "\n",
       "      occRole  deploy  \n",
       "0      driver       0  \n",
       "1      driver       0  \n",
       "2      driver       0  \n",
       "3        pass       0  \n",
       "4      driver       0  \n",
       "...       ...     ...  \n",
       "11212  driver       0  \n",
       "11213  driver       0  \n",
       "11214  driver       1  \n",
       "11215  driver       1  \n",
       "11216    pass       1  \n",
       "\n",
       "[11217 rows x 10 columns]"
      ]
     },
     "execution_count": 27,
     "metadata": {},
     "output_type": "execute_result"
    }
   ],
   "source": [
    "df1"
   ]
  },
  {
   "cell_type": "markdown",
   "id": "3ffdd139",
   "metadata": {},
   "source": [
    "# Encode the data (having string values) for Modeling (use pd.categorical or get_dummies).(0.5 Marks)"
   ]
  },
  {
   "cell_type": "code",
   "execution_count": 28,
   "id": "5dc95c21",
   "metadata": {},
   "outputs": [],
   "source": [
    "df_dummy=pd.get_dummies(df)"
   ]
  },
  {
   "cell_type": "code",
   "execution_count": 29,
   "id": "c1a37a51",
   "metadata": {},
   "outputs": [
    {
     "data": {
      "text/html": [
       "<div>\n",
       "<style scoped>\n",
       "    .dataframe tbody tr th:only-of-type {\n",
       "        vertical-align: middle;\n",
       "    }\n",
       "\n",
       "    .dataframe tbody tr th {\n",
       "        vertical-align: top;\n",
       "    }\n",
       "\n",
       "    .dataframe thead th {\n",
       "        text-align: right;\n",
       "    }\n",
       "</style>\n",
       "<table border=\"1\" class=\"dataframe\">\n",
       "  <thead>\n",
       "    <tr style=\"text-align: right;\">\n",
       "      <th></th>\n",
       "      <th>weight</th>\n",
       "      <th>frontal</th>\n",
       "      <th>ageOFocc</th>\n",
       "      <th>deploy</th>\n",
       "      <th>dvcat_1-9km/h</th>\n",
       "      <th>dvcat_24-Oct</th>\n",
       "      <th>dvcat_25-39</th>\n",
       "      <th>dvcat_40-54</th>\n",
       "      <th>dvcat_55+</th>\n",
       "      <th>Survived_Not_Survived</th>\n",
       "      <th>...</th>\n",
       "      <th>airbag_none</th>\n",
       "      <th>seatbelt_belted</th>\n",
       "      <th>seatbelt_none</th>\n",
       "      <th>sex_f</th>\n",
       "      <th>sex_m</th>\n",
       "      <th>abcat_deploy</th>\n",
       "      <th>abcat_nodeploy</th>\n",
       "      <th>abcat_unavail</th>\n",
       "      <th>occRole_driver</th>\n",
       "      <th>occRole_pass</th>\n",
       "    </tr>\n",
       "  </thead>\n",
       "  <tbody>\n",
       "    <tr>\n",
       "      <th>0</th>\n",
       "      <td>27.078</td>\n",
       "      <td>1</td>\n",
       "      <td>32.0</td>\n",
       "      <td>0</td>\n",
       "      <td>0</td>\n",
       "      <td>0</td>\n",
       "      <td>0</td>\n",
       "      <td>0</td>\n",
       "      <td>1</td>\n",
       "      <td>1</td>\n",
       "      <td>...</td>\n",
       "      <td>1</td>\n",
       "      <td>0</td>\n",
       "      <td>1</td>\n",
       "      <td>0</td>\n",
       "      <td>1</td>\n",
       "      <td>0</td>\n",
       "      <td>0</td>\n",
       "      <td>1</td>\n",
       "      <td>1</td>\n",
       "      <td>0</td>\n",
       "    </tr>\n",
       "    <tr>\n",
       "      <th>1</th>\n",
       "      <td>89.627</td>\n",
       "      <td>0</td>\n",
       "      <td>54.0</td>\n",
       "      <td>0</td>\n",
       "      <td>0</td>\n",
       "      <td>0</td>\n",
       "      <td>1</td>\n",
       "      <td>0</td>\n",
       "      <td>0</td>\n",
       "      <td>1</td>\n",
       "      <td>...</td>\n",
       "      <td>0</td>\n",
       "      <td>1</td>\n",
       "      <td>0</td>\n",
       "      <td>1</td>\n",
       "      <td>0</td>\n",
       "      <td>0</td>\n",
       "      <td>1</td>\n",
       "      <td>0</td>\n",
       "      <td>1</td>\n",
       "      <td>0</td>\n",
       "    </tr>\n",
       "    <tr>\n",
       "      <th>2</th>\n",
       "      <td>27.078</td>\n",
       "      <td>1</td>\n",
       "      <td>67.0</td>\n",
       "      <td>0</td>\n",
       "      <td>0</td>\n",
       "      <td>0</td>\n",
       "      <td>0</td>\n",
       "      <td>0</td>\n",
       "      <td>1</td>\n",
       "      <td>1</td>\n",
       "      <td>...</td>\n",
       "      <td>1</td>\n",
       "      <td>1</td>\n",
       "      <td>0</td>\n",
       "      <td>0</td>\n",
       "      <td>1</td>\n",
       "      <td>0</td>\n",
       "      <td>0</td>\n",
       "      <td>1</td>\n",
       "      <td>1</td>\n",
       "      <td>0</td>\n",
       "    </tr>\n",
       "    <tr>\n",
       "      <th>3</th>\n",
       "      <td>27.078</td>\n",
       "      <td>1</td>\n",
       "      <td>64.0</td>\n",
       "      <td>0</td>\n",
       "      <td>0</td>\n",
       "      <td>0</td>\n",
       "      <td>0</td>\n",
       "      <td>0</td>\n",
       "      <td>1</td>\n",
       "      <td>1</td>\n",
       "      <td>...</td>\n",
       "      <td>1</td>\n",
       "      <td>1</td>\n",
       "      <td>0</td>\n",
       "      <td>1</td>\n",
       "      <td>0</td>\n",
       "      <td>0</td>\n",
       "      <td>0</td>\n",
       "      <td>1</td>\n",
       "      <td>0</td>\n",
       "      <td>1</td>\n",
       "    </tr>\n",
       "    <tr>\n",
       "      <th>4</th>\n",
       "      <td>13.374</td>\n",
       "      <td>1</td>\n",
       "      <td>23.0</td>\n",
       "      <td>0</td>\n",
       "      <td>0</td>\n",
       "      <td>0</td>\n",
       "      <td>0</td>\n",
       "      <td>0</td>\n",
       "      <td>1</td>\n",
       "      <td>1</td>\n",
       "      <td>...</td>\n",
       "      <td>1</td>\n",
       "      <td>0</td>\n",
       "      <td>1</td>\n",
       "      <td>0</td>\n",
       "      <td>1</td>\n",
       "      <td>0</td>\n",
       "      <td>0</td>\n",
       "      <td>1</td>\n",
       "      <td>1</td>\n",
       "      <td>0</td>\n",
       "    </tr>\n",
       "    <tr>\n",
       "      <th>...</th>\n",
       "      <td>...</td>\n",
       "      <td>...</td>\n",
       "      <td>...</td>\n",
       "      <td>...</td>\n",
       "      <td>...</td>\n",
       "      <td>...</td>\n",
       "      <td>...</td>\n",
       "      <td>...</td>\n",
       "      <td>...</td>\n",
       "      <td>...</td>\n",
       "      <td>...</td>\n",
       "      <td>...</td>\n",
       "      <td>...</td>\n",
       "      <td>...</td>\n",
       "      <td>...</td>\n",
       "      <td>...</td>\n",
       "      <td>...</td>\n",
       "      <td>...</td>\n",
       "      <td>...</td>\n",
       "      <td>...</td>\n",
       "      <td>...</td>\n",
       "    </tr>\n",
       "    <tr>\n",
       "      <th>11212</th>\n",
       "      <td>767.702</td>\n",
       "      <td>1</td>\n",
       "      <td>17.0</td>\n",
       "      <td>0</td>\n",
       "      <td>0</td>\n",
       "      <td>0</td>\n",
       "      <td>1</td>\n",
       "      <td>0</td>\n",
       "      <td>0</td>\n",
       "      <td>0</td>\n",
       "      <td>...</td>\n",
       "      <td>1</td>\n",
       "      <td>1</td>\n",
       "      <td>0</td>\n",
       "      <td>0</td>\n",
       "      <td>1</td>\n",
       "      <td>0</td>\n",
       "      <td>0</td>\n",
       "      <td>1</td>\n",
       "      <td>1</td>\n",
       "      <td>0</td>\n",
       "    </tr>\n",
       "    <tr>\n",
       "      <th>11213</th>\n",
       "      <td>71.228</td>\n",
       "      <td>1</td>\n",
       "      <td>54.0</td>\n",
       "      <td>0</td>\n",
       "      <td>0</td>\n",
       "      <td>1</td>\n",
       "      <td>0</td>\n",
       "      <td>0</td>\n",
       "      <td>0</td>\n",
       "      <td>0</td>\n",
       "      <td>...</td>\n",
       "      <td>0</td>\n",
       "      <td>1</td>\n",
       "      <td>0</td>\n",
       "      <td>0</td>\n",
       "      <td>1</td>\n",
       "      <td>0</td>\n",
       "      <td>1</td>\n",
       "      <td>0</td>\n",
       "      <td>1</td>\n",
       "      <td>0</td>\n",
       "    </tr>\n",
       "    <tr>\n",
       "      <th>11214</th>\n",
       "      <td>10.474</td>\n",
       "      <td>1</td>\n",
       "      <td>27.0</td>\n",
       "      <td>1</td>\n",
       "      <td>0</td>\n",
       "      <td>1</td>\n",
       "      <td>0</td>\n",
       "      <td>0</td>\n",
       "      <td>0</td>\n",
       "      <td>0</td>\n",
       "      <td>...</td>\n",
       "      <td>0</td>\n",
       "      <td>1</td>\n",
       "      <td>0</td>\n",
       "      <td>1</td>\n",
       "      <td>0</td>\n",
       "      <td>1</td>\n",
       "      <td>0</td>\n",
       "      <td>0</td>\n",
       "      <td>1</td>\n",
       "      <td>0</td>\n",
       "    </tr>\n",
       "    <tr>\n",
       "      <th>11215</th>\n",
       "      <td>10.474</td>\n",
       "      <td>1</td>\n",
       "      <td>18.0</td>\n",
       "      <td>1</td>\n",
       "      <td>0</td>\n",
       "      <td>0</td>\n",
       "      <td>1</td>\n",
       "      <td>0</td>\n",
       "      <td>0</td>\n",
       "      <td>0</td>\n",
       "      <td>...</td>\n",
       "      <td>0</td>\n",
       "      <td>1</td>\n",
       "      <td>0</td>\n",
       "      <td>1</td>\n",
       "      <td>0</td>\n",
       "      <td>1</td>\n",
       "      <td>0</td>\n",
       "      <td>0</td>\n",
       "      <td>1</td>\n",
       "      <td>0</td>\n",
       "    </tr>\n",
       "    <tr>\n",
       "      <th>11216</th>\n",
       "      <td>10.474</td>\n",
       "      <td>1</td>\n",
       "      <td>17.0</td>\n",
       "      <td>1</td>\n",
       "      <td>0</td>\n",
       "      <td>0</td>\n",
       "      <td>1</td>\n",
       "      <td>0</td>\n",
       "      <td>0</td>\n",
       "      <td>0</td>\n",
       "      <td>...</td>\n",
       "      <td>0</td>\n",
       "      <td>1</td>\n",
       "      <td>0</td>\n",
       "      <td>0</td>\n",
       "      <td>1</td>\n",
       "      <td>1</td>\n",
       "      <td>0</td>\n",
       "      <td>0</td>\n",
       "      <td>0</td>\n",
       "      <td>1</td>\n",
       "    </tr>\n",
       "  </tbody>\n",
       "</table>\n",
       "<p>11217 rows × 22 columns</p>\n",
       "</div>"
      ],
      "text/plain": [
       "        weight  frontal  ageOFocc  deploy  dvcat_1-9km/h  dvcat_24-Oct  \\\n",
       "0       27.078        1      32.0       0              0             0   \n",
       "1       89.627        0      54.0       0              0             0   \n",
       "2       27.078        1      67.0       0              0             0   \n",
       "3       27.078        1      64.0       0              0             0   \n",
       "4       13.374        1      23.0       0              0             0   \n",
       "...        ...      ...       ...     ...            ...           ...   \n",
       "11212  767.702        1      17.0       0              0             0   \n",
       "11213   71.228        1      54.0       0              0             1   \n",
       "11214   10.474        1      27.0       1              0             1   \n",
       "11215   10.474        1      18.0       1              0             0   \n",
       "11216   10.474        1      17.0       1              0             0   \n",
       "\n",
       "       dvcat_25-39  dvcat_40-54  dvcat_55+  Survived_Not_Survived  ...  \\\n",
       "0                0            0          1                      1  ...   \n",
       "1                1            0          0                      1  ...   \n",
       "2                0            0          1                      1  ...   \n",
       "3                0            0          1                      1  ...   \n",
       "4                0            0          1                      1  ...   \n",
       "...            ...          ...        ...                    ...  ...   \n",
       "11212            1            0          0                      0  ...   \n",
       "11213            0            0          0                      0  ...   \n",
       "11214            0            0          0                      0  ...   \n",
       "11215            1            0          0                      0  ...   \n",
       "11216            1            0          0                      0  ...   \n",
       "\n",
       "       airbag_none  seatbelt_belted  seatbelt_none  sex_f  sex_m  \\\n",
       "0                1                0              1      0      1   \n",
       "1                0                1              0      1      0   \n",
       "2                1                1              0      0      1   \n",
       "3                1                1              0      1      0   \n",
       "4                1                0              1      0      1   \n",
       "...            ...              ...            ...    ...    ...   \n",
       "11212            1                1              0      0      1   \n",
       "11213            0                1              0      0      1   \n",
       "11214            0                1              0      1      0   \n",
       "11215            0                1              0      1      0   \n",
       "11216            0                1              0      0      1   \n",
       "\n",
       "       abcat_deploy  abcat_nodeploy  abcat_unavail  occRole_driver  \\\n",
       "0                 0               0              1               1   \n",
       "1                 0               1              0               1   \n",
       "2                 0               0              1               1   \n",
       "3                 0               0              1               0   \n",
       "4                 0               0              1               1   \n",
       "...             ...             ...            ...             ...   \n",
       "11212             0               0              1               1   \n",
       "11213             0               1              0               1   \n",
       "11214             1               0              0               1   \n",
       "11215             1               0              0               1   \n",
       "11216             1               0              0               0   \n",
       "\n",
       "       occRole_pass  \n",
       "0                 0  \n",
       "1                 0  \n",
       "2                 0  \n",
       "3                 1  \n",
       "4                 0  \n",
       "...             ...  \n",
       "11212             0  \n",
       "11213             0  \n",
       "11214             0  \n",
       "11215             0  \n",
       "11216             1  \n",
       "\n",
       "[11217 rows x 22 columns]"
      ]
     },
     "execution_count": 29,
     "metadata": {},
     "output_type": "execute_result"
    }
   ],
   "source": [
    "df_dummy\n"
   ]
  },
  {
   "cell_type": "code",
   "execution_count": 30,
   "id": "27ad82e7",
   "metadata": {},
   "outputs": [
    {
     "name": "stdout",
     "output_type": "stream",
     "text": [
      "<class 'pandas.core.frame.DataFrame'>\n",
      "RangeIndex: 11217 entries, 0 to 11216\n",
      "Data columns (total 10 columns):\n",
      " #   Column    Non-Null Count  Dtype  \n",
      "---  ------    --------------  -----  \n",
      " 0   dvcat     11217 non-null  object \n",
      " 1   weight    11217 non-null  float64\n",
      " 2   airbag    11217 non-null  object \n",
      " 3   seatbelt  11217 non-null  object \n",
      " 4   frontal   11217 non-null  int64  \n",
      " 5   sex       11217 non-null  object \n",
      " 6   ageOFocc  11217 non-null  float64\n",
      " 7   abcat     11217 non-null  object \n",
      " 8   occRole   11217 non-null  object \n",
      " 9   deploy    11217 non-null  int64  \n",
      "dtypes: float64(2), int64(2), object(6)\n",
      "memory usage: 876.5+ KB\n"
     ]
    }
   ],
   "source": [
    "df1.info()"
   ]
  },
  {
   "cell_type": "code",
   "execution_count": 31,
   "id": "f1636e0b",
   "metadata": {},
   "outputs": [],
   "source": [
    "df1[\"Survived\"]=df[\"Survived\"]"
   ]
  },
  {
   "cell_type": "code",
   "execution_count": 32,
   "id": "a9d2ab5e",
   "metadata": {},
   "outputs": [],
   "source": [
    "for i in df1.columns:\n",
    "    if df1[i].dtypes=='object':\n",
    "        df1[i]=pd.Categorical(df1[i]).codes"
   ]
  },
  {
   "cell_type": "code",
   "execution_count": 33,
   "id": "e6240eb4",
   "metadata": {},
   "outputs": [
    {
     "name": "stdout",
     "output_type": "stream",
     "text": [
      "<class 'pandas.core.frame.DataFrame'>\n",
      "RangeIndex: 11217 entries, 0 to 11216\n",
      "Data columns (total 11 columns):\n",
      " #   Column    Non-Null Count  Dtype  \n",
      "---  ------    --------------  -----  \n",
      " 0   dvcat     11217 non-null  int8   \n",
      " 1   weight    11217 non-null  float64\n",
      " 2   airbag    11217 non-null  int8   \n",
      " 3   seatbelt  11217 non-null  int8   \n",
      " 4   frontal   11217 non-null  int64  \n",
      " 5   sex       11217 non-null  int8   \n",
      " 6   ageOFocc  11217 non-null  float64\n",
      " 7   abcat     11217 non-null  int8   \n",
      " 8   occRole   11217 non-null  int8   \n",
      " 9   deploy    11217 non-null  int64  \n",
      " 10  Survived  11217 non-null  int8   \n",
      "dtypes: float64(2), int64(2), int8(7)\n",
      "memory usage: 427.3 KB\n"
     ]
    }
   ],
   "source": [
    "df1.info()"
   ]
  },
  {
   "cell_type": "code",
   "execution_count": 34,
   "id": "51953fde",
   "metadata": {},
   "outputs": [],
   "source": [
    "from sklearn.model_selection import train_test_split\n",
    "from scipy import stats\n",
    "from sklearn import tree\n",
    "from sklearn.preprocessing import StandardScaler\n",
    "from sklearn.tree import DecisionTreeClassifier\n",
    "from sklearn.neural_network import MLPClassifier\n",
    "from sklearn.metrics import classification_report,confusion_matrix,accuracy_score,roc_auc_score,roc_curve\n",
    "from warnings import filterwarnings\n",
    "filterwarnings(\"ignore\")\n"
   ]
  },
  {
   "cell_type": "markdown",
   "id": "35cb8501",
   "metadata": {},
   "source": [
    "# Data Split: Split the data into test and train.(size=0.30), random_state=1.(0.5 Marks)"
   ]
  },
  {
   "cell_type": "code",
   "execution_count": 35,
   "id": "d38ca0af",
   "metadata": {},
   "outputs": [],
   "source": [
    "x=df1.drop([\"Survived\"],axis=1)\n",
    "y=df1[\"Survived\"]"
   ]
  },
  {
   "cell_type": "code",
   "execution_count": 36,
   "id": "db0e64dc",
   "metadata": {},
   "outputs": [],
   "source": [
    "x_train,x_test,y_train,y_test=train_test_split(x,y,test_size=0.30,random_state=1)"
   ]
  },
  {
   "cell_type": "code",
   "execution_count": 37,
   "id": "f92e0988",
   "metadata": {},
   "outputs": [
    {
     "data": {
      "text/plain": [
       "((7851, 10), (3366, 10))"
      ]
     },
     "execution_count": 37,
     "metadata": {},
     "output_type": "execute_result"
    }
   ],
   "source": [
    "x_train.shape,x_test.shape"
   ]
  },
  {
   "cell_type": "code",
   "execution_count": 38,
   "id": "af9c44bd",
   "metadata": {},
   "outputs": [
    {
     "data": {
      "text/plain": [
       "((7851,), (3366,))"
      ]
     },
     "execution_count": 38,
     "metadata": {},
     "output_type": "execute_result"
    }
   ],
   "source": [
    "y_train.shape,y_test.shape"
   ]
  },
  {
   "cell_type": "markdown",
   "id": "f2a0208e",
   "metadata": {},
   "source": [
    "# Build classification model CART - Decision Tree.(1 Marks)"
   ]
  },
  {
   "cell_type": "code",
   "execution_count": 39,
   "id": "16e2ea26",
   "metadata": {},
   "outputs": [],
   "source": [
    "dc_model=DecisionTreeClassifier(criterion='gini',random_state=1)"
   ]
  },
  {
   "cell_type": "code",
   "execution_count": 40,
   "id": "b8eb53e4",
   "metadata": {},
   "outputs": [
    {
     "data": {
      "text/html": [
       "<style>#sk-container-id-1 {color: black;}#sk-container-id-1 pre{padding: 0;}#sk-container-id-1 div.sk-toggleable {background-color: white;}#sk-container-id-1 label.sk-toggleable__label {cursor: pointer;display: block;width: 100%;margin-bottom: 0;padding: 0.3em;box-sizing: border-box;text-align: center;}#sk-container-id-1 label.sk-toggleable__label-arrow:before {content: \"▸\";float: left;margin-right: 0.25em;color: #696969;}#sk-container-id-1 label.sk-toggleable__label-arrow:hover:before {color: black;}#sk-container-id-1 div.sk-estimator:hover label.sk-toggleable__label-arrow:before {color: black;}#sk-container-id-1 div.sk-toggleable__content {max-height: 0;max-width: 0;overflow: hidden;text-align: left;background-color: #f0f8ff;}#sk-container-id-1 div.sk-toggleable__content pre {margin: 0.2em;color: black;border-radius: 0.25em;background-color: #f0f8ff;}#sk-container-id-1 input.sk-toggleable__control:checked~div.sk-toggleable__content {max-height: 200px;max-width: 100%;overflow: auto;}#sk-container-id-1 input.sk-toggleable__control:checked~label.sk-toggleable__label-arrow:before {content: \"▾\";}#sk-container-id-1 div.sk-estimator input.sk-toggleable__control:checked~label.sk-toggleable__label {background-color: #d4ebff;}#sk-container-id-1 div.sk-label input.sk-toggleable__control:checked~label.sk-toggleable__label {background-color: #d4ebff;}#sk-container-id-1 input.sk-hidden--visually {border: 0;clip: rect(1px 1px 1px 1px);clip: rect(1px, 1px, 1px, 1px);height: 1px;margin: -1px;overflow: hidden;padding: 0;position: absolute;width: 1px;}#sk-container-id-1 div.sk-estimator {font-family: monospace;background-color: #f0f8ff;border: 1px dotted black;border-radius: 0.25em;box-sizing: border-box;margin-bottom: 0.5em;}#sk-container-id-1 div.sk-estimator:hover {background-color: #d4ebff;}#sk-container-id-1 div.sk-parallel-item::after {content: \"\";width: 100%;border-bottom: 1px solid gray;flex-grow: 1;}#sk-container-id-1 div.sk-label:hover label.sk-toggleable__label {background-color: #d4ebff;}#sk-container-id-1 div.sk-serial::before {content: \"\";position: absolute;border-left: 1px solid gray;box-sizing: border-box;top: 0;bottom: 0;left: 50%;z-index: 0;}#sk-container-id-1 div.sk-serial {display: flex;flex-direction: column;align-items: center;background-color: white;padding-right: 0.2em;padding-left: 0.2em;position: relative;}#sk-container-id-1 div.sk-item {position: relative;z-index: 1;}#sk-container-id-1 div.sk-parallel {display: flex;align-items: stretch;justify-content: center;background-color: white;position: relative;}#sk-container-id-1 div.sk-item::before, #sk-container-id-1 div.sk-parallel-item::before {content: \"\";position: absolute;border-left: 1px solid gray;box-sizing: border-box;top: 0;bottom: 0;left: 50%;z-index: -1;}#sk-container-id-1 div.sk-parallel-item {display: flex;flex-direction: column;z-index: 1;position: relative;background-color: white;}#sk-container-id-1 div.sk-parallel-item:first-child::after {align-self: flex-end;width: 50%;}#sk-container-id-1 div.sk-parallel-item:last-child::after {align-self: flex-start;width: 50%;}#sk-container-id-1 div.sk-parallel-item:only-child::after {width: 0;}#sk-container-id-1 div.sk-dashed-wrapped {border: 1px dashed gray;margin: 0 0.4em 0.5em 0.4em;box-sizing: border-box;padding-bottom: 0.4em;background-color: white;}#sk-container-id-1 div.sk-label label {font-family: monospace;font-weight: bold;display: inline-block;line-height: 1.2em;}#sk-container-id-1 div.sk-label-container {text-align: center;}#sk-container-id-1 div.sk-container {/* jupyter's `normalize.less` sets `[hidden] { display: none; }` but bootstrap.min.css set `[hidden] { display: none !important; }` so we also need the `!important` here to be able to override the default hidden behavior on the sphinx rendered scikit-learn.org. See: https://github.com/scikit-learn/scikit-learn/issues/21755 */display: inline-block !important;position: relative;}#sk-container-id-1 div.sk-text-repr-fallback {display: none;}</style><div id=\"sk-container-id-1\" class=\"sk-top-container\"><div class=\"sk-text-repr-fallback\"><pre>DecisionTreeClassifier(random_state=1)</pre><b>In a Jupyter environment, please rerun this cell to show the HTML representation or trust the notebook. <br />On GitHub, the HTML representation is unable to render, please try loading this page with nbviewer.org.</b></div><div class=\"sk-container\" hidden><div class=\"sk-item\"><div class=\"sk-estimator sk-toggleable\"><input class=\"sk-toggleable__control sk-hidden--visually\" id=\"sk-estimator-id-1\" type=\"checkbox\" checked><label for=\"sk-estimator-id-1\" class=\"sk-toggleable__label sk-toggleable__label-arrow\">DecisionTreeClassifier</label><div class=\"sk-toggleable__content\"><pre>DecisionTreeClassifier(random_state=1)</pre></div></div></div></div></div>"
      ],
      "text/plain": [
       "DecisionTreeClassifier(random_state=1)"
      ]
     },
     "execution_count": 40,
     "metadata": {},
     "output_type": "execute_result"
    }
   ],
   "source": [
    "dc_model.fit(x_train,y_train)"
   ]
  },
  {
   "cell_type": "code",
   "execution_count": 463,
   "id": "c5611e55",
   "metadata": {},
   "outputs": [],
   "source": [
    "train_char_label = ['Not_Survived', 'Survived']\n",
    "Car_Crash_file = open('Car_Crash.dot','w')\n",
    "dot_data = tree.export_graphviz(dc_model, out_file=Car_Crash_file, feature_names = list(x_train), class_names = list(train_char_label))\n",
    "Car_Crash_file.close()\n"
   ]
  },
  {
   "cell_type": "code",
   "execution_count": 41,
   "id": "de028c2d",
   "metadata": {},
   "outputs": [
    {
     "name": "stdout",
     "output_type": "stream",
     "text": [
      "               imp\n",
      "dvcat     0.203375\n",
      "weight    0.388590\n",
      "airbag    0.015236\n",
      "seatbelt  0.046084\n",
      "frontal   0.037185\n",
      "sex       0.035188\n",
      "ageOFocc  0.217312\n",
      "abcat     0.025177\n",
      "occRole   0.023929\n",
      "deploy    0.007925\n"
     ]
    }
   ],
   "source": [
    "print(pd.DataFrame(dc_model.feature_importances_,columns=['imp'],index=x_train.columns))"
   ]
  },
  {
   "cell_type": "code",
   "execution_count": 42,
   "id": "da37825f",
   "metadata": {},
   "outputs": [],
   "source": [
    "train_pred=dc_model.predict(x_train)"
   ]
  },
  {
   "cell_type": "code",
   "execution_count": 43,
   "id": "766dc7cd",
   "metadata": {},
   "outputs": [],
   "source": [
    "test_pred=dc_model.predict(x_test)"
   ]
  },
  {
   "cell_type": "code",
   "execution_count": 44,
   "id": "fdb9308d",
   "metadata": {},
   "outputs": [
    {
     "data": {
      "text/plain": [
       "array([[ 797,    0],\n",
       "       [   1, 7053]], dtype=int64)"
      ]
     },
     "execution_count": 44,
     "metadata": {},
     "output_type": "execute_result"
    }
   ],
   "source": [
    "confusion_matrix(y_train,train_pred)"
   ]
  },
  {
   "cell_type": "code",
   "execution_count": 45,
   "id": "dc62d468",
   "metadata": {},
   "outputs": [
    {
     "name": "stdout",
     "output_type": "stream",
     "text": [
      "              precision    recall  f1-score   support\n",
      "\n",
      "           0       1.00      1.00      1.00       797\n",
      "           1       1.00      1.00      1.00      7054\n",
      "\n",
      "    accuracy                           1.00      7851\n",
      "   macro avg       1.00      1.00      1.00      7851\n",
      "weighted avg       1.00      1.00      1.00      7851\n",
      "\n"
     ]
    }
   ],
   "source": [
    "print(classification_report(y_train,train_pred))"
   ]
  },
  {
   "cell_type": "code",
   "execution_count": 46,
   "id": "93020d3a",
   "metadata": {},
   "outputs": [
    {
     "data": {
      "text/plain": [
       "array([[ 164,  219],\n",
       "       [ 212, 2771]], dtype=int64)"
      ]
     },
     "execution_count": 46,
     "metadata": {},
     "output_type": "execute_result"
    }
   ],
   "source": [
    "confusion_matrix(y_test,test_pred)"
   ]
  },
  {
   "cell_type": "code",
   "execution_count": 47,
   "id": "3c63e781",
   "metadata": {},
   "outputs": [
    {
     "name": "stdout",
     "output_type": "stream",
     "text": [
      "              precision    recall  f1-score   support\n",
      "\n",
      "           0       0.44      0.43      0.43       383\n",
      "           1       0.93      0.93      0.93      2983\n",
      "\n",
      "    accuracy                           0.87      3366\n",
      "   macro avg       0.68      0.68      0.68      3366\n",
      "weighted avg       0.87      0.87      0.87      3366\n",
      "\n"
     ]
    }
   ],
   "source": [
    "print(classification_report(y_test,test_pred))"
   ]
  },
  {
   "cell_type": "code",
   "execution_count": 48,
   "id": "d79fd919",
   "metadata": {},
   "outputs": [
    {
     "name": "stdout",
     "output_type": "stream",
     "text": [
      "AUC_Score: 0.679\n"
     ]
    }
   ],
   "source": [
    "\n",
    "print(\"AUC_Score: %.3f\" % roc_auc_score(y_test,test_pred) )"
   ]
  },
  {
   "cell_type": "code",
   "execution_count": 49,
   "id": "2d98ffae",
   "metadata": {},
   "outputs": [
    {
     "name": "stdout",
     "output_type": "stream",
     "text": [
      "AUC: 1.000\n"
     ]
    },
    {
     "data": {
      "image/png": "[encoded data removed]",
      "text/plain": [
       "<Figure size 640x480 with 1 Axes>"
      ]
     },
     "metadata": {},
     "output_type": "display_data"
    }
   ],
   "source": [
    "auc = roc_auc_score(y_train,train_pred)\n",
    "print('AUC: %.3f' % auc)\n",
    "# # calculate roc curve\n",
    "fpr, tpr, thresholds = roc_curve(y_train,train_pred)\n",
    "plt.plot([0, 1], [0, 1], linestyle='--')\n",
    "# plot the roc curve for the model\n",
    "plt.plot(fpr, tpr, marker='.')\n",
    "# show the plot\n",
    "plt.show()"
   ]
  },
  {
   "cell_type": "code",
   "execution_count": 50,
   "id": "64338c40",
   "metadata": {},
   "outputs": [
    {
     "name": "stdout",
     "output_type": "stream",
     "text": [
      "AUC: 0.679\n"
     ]
    },
    {
     "data": {
      "image/png": "[encoded data removed]",
      "text/plain": [
       "<Figure size 640x480 with 1 Axes>"
      ]
     },
     "metadata": {},
     "output_type": "display_data"
    }
   ],
   "source": [
    "auc = roc_auc_score(y_test,test_pred)\n",
    "print('AUC: %.3f' % auc)\n",
    "# # calculate roc curve\n",
    "fpr, tpr, thresholds = roc_curve(y_test,test_pred)\n",
    "plt.plot([0, 1], [0, 1], linestyle='--')\n",
    "# plot the roc curve for the model\n",
    "plt.plot(fpr, tpr, marker='.')\n",
    "# show the plot\n",
    "plt.show()"
   ]
  },
  {
   "cell_type": "markdown",
   "id": "8be54b6e",
   "metadata": {},
   "source": [
    "# Regularize the Decision Tree and Check the train and test score after regularization. (1 Marks)"
   ]
  },
  {
   "cell_type": "code",
   "execution_count": 51,
   "id": "2eca3ac4",
   "metadata": {},
   "outputs": [],
   "source": [
    "params = {'criterion':['gini', 'entropy'],\n",
    "         'max_depth':[5,6,7,9,10,11,13,15,16],\n",
    "          'min_samples_split':list(range(1,20)),\n",
    "         \"min_samples_leaf\":list(range(1,20))}"
   ]
  },
  {
   "cell_type": "code",
   "execution_count": 497,
   "id": "e6252fcf",
   "metadata": {},
   "outputs": [
    {
     "name": "stdout",
     "output_type": "stream",
     "text": [
      "Fitting 5 folds for each of 6498 candidates, totalling 32490 fits\n"
     ]
    },
    {
     "data": {
      "text/html": [
       "<style>#sk-container-id-10 {color: black;}#sk-container-id-10 pre{padding: 0;}#sk-container-id-10 div.sk-toggleable {background-color: white;}#sk-container-id-10 label.sk-toggleable__label {cursor: pointer;display: block;width: 100%;margin-bottom: 0;padding: 0.3em;box-sizing: border-box;text-align: center;}#sk-container-id-10 label.sk-toggleable__label-arrow:before {content: \"▸\";float: left;margin-right: 0.25em;color: #696969;}#sk-container-id-10 label.sk-toggleable__label-arrow:hover:before {color: black;}#sk-container-id-10 div.sk-estimator:hover label.sk-toggleable__label-arrow:before {color: black;}#sk-container-id-10 div.sk-toggleable__content {max-height: 0;max-width: 0;overflow: hidden;text-align: left;background-color: #f0f8ff;}#sk-container-id-10 div.sk-toggleable__content pre {margin: 0.2em;color: black;border-radius: 0.25em;background-color: #f0f8ff;}#sk-container-id-10 input.sk-toggleable__control:checked~div.sk-toggleable__content {max-height: 200px;max-width: 100%;overflow: auto;}#sk-container-id-10 input.sk-toggleable__control:checked~label.sk-toggleable__label-arrow:before {content: \"▾\";}#sk-container-id-10 div.sk-estimator input.sk-toggleable__control:checked~label.sk-toggleable__label {background-color: #d4ebff;}#sk-container-id-10 div.sk-label input.sk-toggleable__control:checked~label.sk-toggleable__label {background-color: #d4ebff;}#sk-container-id-10 input.sk-hidden--visually {border: 0;clip: rect(1px 1px 1px 1px);clip: rect(1px, 1px, 1px, 1px);height: 1px;margin: -1px;overflow: hidden;padding: 0;position: absolute;width: 1px;}#sk-container-id-10 div.sk-estimator {font-family: monospace;background-color: #f0f8ff;border: 1px dotted black;border-radius: 0.25em;box-sizing: border-box;margin-bottom: 0.5em;}#sk-container-id-10 div.sk-estimator:hover {background-color: #d4ebff;}#sk-container-id-10 div.sk-parallel-item::after {content: \"\";width: 100%;border-bottom: 1px solid gray;flex-grow: 1;}#sk-container-id-10 div.sk-label:hover label.sk-toggleable__label {background-color: #d4ebff;}#sk-container-id-10 div.sk-serial::before {content: \"\";position: absolute;border-left: 1px solid gray;box-sizing: border-box;top: 0;bottom: 0;left: 50%;z-index: 0;}#sk-container-id-10 div.sk-serial {display: flex;flex-direction: column;align-items: center;background-color: white;padding-right: 0.2em;padding-left: 0.2em;position: relative;}#sk-container-id-10 div.sk-item {position: relative;z-index: 1;}#sk-container-id-10 div.sk-parallel {display: flex;align-items: stretch;justify-content: center;background-color: white;position: relative;}#sk-container-id-10 div.sk-item::before, #sk-container-id-10 div.sk-parallel-item::before {content: \"\";position: absolute;border-left: 1px solid gray;box-sizing: border-box;top: 0;bottom: 0;left: 50%;z-index: -1;}#sk-container-id-10 div.sk-parallel-item {display: flex;flex-direction: column;z-index: 1;position: relative;background-color: white;}#sk-container-id-10 div.sk-parallel-item:first-child::after {align-self: flex-end;width: 50%;}#sk-container-id-10 div.sk-parallel-item:last-child::after {align-self: flex-start;width: 50%;}#sk-container-id-10 div.sk-parallel-item:only-child::after {width: 0;}#sk-container-id-10 div.sk-dashed-wrapped {border: 1px dashed gray;margin: 0 0.4em 0.5em 0.4em;box-sizing: border-box;padding-bottom: 0.4em;background-color: white;}#sk-container-id-10 div.sk-label label {font-family: monospace;font-weight: bold;display: inline-block;line-height: 1.2em;}#sk-container-id-10 div.sk-label-container {text-align: center;}#sk-container-id-10 div.sk-container {/* jupyter's `normalize.less` sets `[hidden] { display: none; }` but bootstrap.min.css set `[hidden] { display: none !important; }` so we also need the `!important` here to be able to override the default hidden behavior on the sphinx rendered scikit-learn.org. See: https://github.com/scikit-learn/scikit-learn/issues/21755 */display: inline-block !important;position: relative;}#sk-container-id-10 div.sk-text-repr-fallback {display: none;}</style><div id=\"sk-container-id-10\" class=\"sk-top-container\"><div class=\"sk-text-repr-fallback\"><pre>GridSearchCV(estimator=DecisionTreeClassifier(),\n",
       "             param_grid={&#x27;criterion&#x27;: [&#x27;gini&#x27;, &#x27;entropy&#x27;],\n",
       "                         &#x27;max_depth&#x27;: [5, 6, 7, 9, 10, 11, 13, 15, 16],\n",
       "                         &#x27;min_samples_leaf&#x27;: [1, 2, 3, 4, 5, 6, 7, 8, 9, 10, 11,\n",
       "                                              12, 13, 14, 15, 16, 17, 18, 19],\n",
       "                         &#x27;min_samples_split&#x27;: [1, 2, 3, 4, 5, 6, 7, 8, 9, 10,\n",
       "                                               11, 12, 13, 14, 15, 16, 17, 18,\n",
       "                                               19]},\n",
       "             verbose=1)</pre><b>In a Jupyter environment, please rerun this cell to show the HTML representation or trust the notebook. <br />On GitHub, the HTML representation is unable to render, please try loading this page with nbviewer.org.</b></div><div class=\"sk-container\" hidden><div class=\"sk-item sk-dashed-wrapped\"><div class=\"sk-label-container\"><div class=\"sk-label sk-toggleable\"><input class=\"sk-toggleable__control sk-hidden--visually\" id=\"sk-estimator-id-10\" type=\"checkbox\" ><label for=\"sk-estimator-id-10\" class=\"sk-toggleable__label sk-toggleable__label-arrow\">GridSearchCV</label><div class=\"sk-toggleable__content\"><pre>GridSearchCV(estimator=DecisionTreeClassifier(),\n",
       "             param_grid={&#x27;criterion&#x27;: [&#x27;gini&#x27;, &#x27;entropy&#x27;],\n",
       "                         &#x27;max_depth&#x27;: [5, 6, 7, 9, 10, 11, 13, 15, 16],\n",
       "                         &#x27;min_samples_leaf&#x27;: [1, 2, 3, 4, 5, 6, 7, 8, 9, 10, 11,\n",
       "                                              12, 13, 14, 15, 16, 17, 18, 19],\n",
       "                         &#x27;min_samples_split&#x27;: [1, 2, 3, 4, 5, 6, 7, 8, 9, 10,\n",
       "                                               11, 12, 13, 14, 15, 16, 17, 18,\n",
       "                                               19]},\n",
       "             verbose=1)</pre></div></div></div><div class=\"sk-parallel\"><div class=\"sk-parallel-item\"><div class=\"sk-item\"><div class=\"sk-label-container\"><div class=\"sk-label sk-toggleable\"><input class=\"sk-toggleable__control sk-hidden--visually\" id=\"sk-estimator-id-11\" type=\"checkbox\" ><label for=\"sk-estimator-id-11\" class=\"sk-toggleable__label sk-toggleable__label-arrow\">estimator: DecisionTreeClassifier</label><div class=\"sk-toggleable__content\"><pre>DecisionTreeClassifier()</pre></div></div></div><div class=\"sk-serial\"><div class=\"sk-item\"><div class=\"sk-estimator sk-toggleable\"><input class=\"sk-toggleable__control sk-hidden--visually\" id=\"sk-estimator-id-12\" type=\"checkbox\" ><label for=\"sk-estimator-id-12\" class=\"sk-toggleable__label sk-toggleable__label-arrow\">DecisionTreeClassifier</label><div class=\"sk-toggleable__content\"><pre>DecisionTreeClassifier()</pre></div></div></div></div></div></div></div></div></div></div>"
      ],
      "text/plain": [
       "GridSearchCV(estimator=DecisionTreeClassifier(),\n",
       "             param_grid={'criterion': ['gini', 'entropy'],\n",
       "                         'max_depth': [5, 6, 7, 9, 10, 11, 13, 15, 16],\n",
       "                         'min_samples_leaf': [1, 2, 3, 4, 5, 6, 7, 8, 9, 10, 11,\n",
       "                                              12, 13, 14, 15, 16, 17, 18, 19],\n",
       "                         'min_samples_split': [1, 2, 3, 4, 5, 6, 7, 8, 9, 10,\n",
       "                                               11, 12, 13, 14, 15, 16, 17, 18,\n",
       "                                               19]},\n",
       "             verbose=1)"
      ]
     },
     "execution_count": 497,
     "metadata": {},
     "output_type": "execute_result"
    }
   ],
   "source": [
    "from sklearn.model_selection import GridSearchCV\n",
    "grid_Dec = GridSearchCV(DecisionTreeClassifier(),param_grid=params,refit=True,verbose=1)\n",
    "grid_Dec.fit(x_train, y_train)"
   ]
  },
  {
   "cell_type": "code",
   "execution_count": 498,
   "id": "149fd2de",
   "metadata": {},
   "outputs": [
    {
     "data": {
      "text/plain": [
       "{'criterion': 'entropy',\n",
       " 'max_depth': 7,\n",
       " 'min_samples_leaf': 11,\n",
       " 'min_samples_split': 5}"
      ]
     },
     "execution_count": 498,
     "metadata": {},
     "output_type": "execute_result"
    }
   ],
   "source": [
    "grid_Dec.best_params_"
   ]
  },
  {
   "cell_type": "code",
   "execution_count": 52,
   "id": "35b6771f",
   "metadata": {},
   "outputs": [],
   "source": [
    "reg_dc_model=DecisionTreeClassifier(criterion='entropy',max_depth=7,min_samples_leaf=11,min_samples_split=5,random_state=1)"
   ]
  },
  {
   "cell_type": "code",
   "execution_count": 53,
   "id": "9b4ec607",
   "metadata": {},
   "outputs": [
    {
     "data": {
      "text/html": [
       "<style>#sk-container-id-2 {color: black;}#sk-container-id-2 pre{padding: 0;}#sk-container-id-2 div.sk-toggleable {background-color: white;}#sk-container-id-2 label.sk-toggleable__label {cursor: pointer;display: block;width: 100%;margin-bottom: 0;padding: 0.3em;box-sizing: border-box;text-align: center;}#sk-container-id-2 label.sk-toggleable__label-arrow:before {content: \"▸\";float: left;margin-right: 0.25em;color: #696969;}#sk-container-id-2 label.sk-toggleable__label-arrow:hover:before {color: black;}#sk-container-id-2 div.sk-estimator:hover label.sk-toggleable__label-arrow:before {color: black;}#sk-container-id-2 div.sk-toggleable__content {max-height: 0;max-width: 0;overflow: hidden;text-align: left;background-color: #f0f8ff;}#sk-container-id-2 div.sk-toggleable__content pre {margin: 0.2em;color: black;border-radius: 0.25em;background-color: #f0f8ff;}#sk-container-id-2 input.sk-toggleable__control:checked~div.sk-toggleable__content {max-height: 200px;max-width: 100%;overflow: auto;}#sk-container-id-2 input.sk-toggleable__control:checked~label.sk-toggleable__label-arrow:before {content: \"▾\";}#sk-container-id-2 div.sk-estimator input.sk-toggleable__control:checked~label.sk-toggleable__label {background-color: #d4ebff;}#sk-container-id-2 div.sk-label input.sk-toggleable__control:checked~label.sk-toggleable__label {background-color: #d4ebff;}#sk-container-id-2 input.sk-hidden--visually {border: 0;clip: rect(1px 1px 1px 1px);clip: rect(1px, 1px, 1px, 1px);height: 1px;margin: -1px;overflow: hidden;padding: 0;position: absolute;width: 1px;}#sk-container-id-2 div.sk-estimator {font-family: monospace;background-color: #f0f8ff;border: 1px dotted black;border-radius: 0.25em;box-sizing: border-box;margin-bottom: 0.5em;}#sk-container-id-2 div.sk-estimator:hover {background-color: #d4ebff;}#sk-container-id-2 div.sk-parallel-item::after {content: \"\";width: 100%;border-bottom: 1px solid gray;flex-grow: 1;}#sk-container-id-2 div.sk-label:hover label.sk-toggleable__label {background-color: #d4ebff;}#sk-container-id-2 div.sk-serial::before {content: \"\";position: absolute;border-left: 1px solid gray;box-sizing: border-box;top: 0;bottom: 0;left: 50%;z-index: 0;}#sk-container-id-2 div.sk-serial {display: flex;flex-direction: column;align-items: center;background-color: white;padding-right: 0.2em;padding-left: 0.2em;position: relative;}#sk-container-id-2 div.sk-item {position: relative;z-index: 1;}#sk-container-id-2 div.sk-parallel {display: flex;align-items: stretch;justify-content: center;background-color: white;position: relative;}#sk-container-id-2 div.sk-item::before, #sk-container-id-2 div.sk-parallel-item::before {content: \"\";position: absolute;border-left: 1px solid gray;box-sizing: border-box;top: 0;bottom: 0;left: 50%;z-index: -1;}#sk-container-id-2 div.sk-parallel-item {display: flex;flex-direction: column;z-index: 1;position: relative;background-color: white;}#sk-container-id-2 div.sk-parallel-item:first-child::after {align-self: flex-end;width: 50%;}#sk-container-id-2 div.sk-parallel-item:last-child::after {align-self: flex-start;width: 50%;}#sk-container-id-2 div.sk-parallel-item:only-child::after {width: 0;}#sk-container-id-2 div.sk-dashed-wrapped {border: 1px dashed gray;margin: 0 0.4em 0.5em 0.4em;box-sizing: border-box;padding-bottom: 0.4em;background-color: white;}#sk-container-id-2 div.sk-label label {font-family: monospace;font-weight: bold;display: inline-block;line-height: 1.2em;}#sk-container-id-2 div.sk-label-container {text-align: center;}#sk-container-id-2 div.sk-container {/* jupyter's `normalize.less` sets `[hidden] { display: none; }` but bootstrap.min.css set `[hidden] { display: none !important; }` so we also need the `!important` here to be able to override the default hidden behavior on the sphinx rendered scikit-learn.org. See: https://github.com/scikit-learn/scikit-learn/issues/21755 */display: inline-block !important;position: relative;}#sk-container-id-2 div.sk-text-repr-fallback {display: none;}</style><div id=\"sk-container-id-2\" class=\"sk-top-container\"><div class=\"sk-text-repr-fallback\"><pre>DecisionTreeClassifier(criterion=&#x27;entropy&#x27;, max_depth=7, min_samples_leaf=11,\n",
       "                       min_samples_split=5, random_state=1)</pre><b>In a Jupyter environment, please rerun this cell to show the HTML representation or trust the notebook. <br />On GitHub, the HTML representation is unable to render, please try loading this page with nbviewer.org.</b></div><div class=\"sk-container\" hidden><div class=\"sk-item\"><div class=\"sk-estimator sk-toggleable\"><input class=\"sk-toggleable__control sk-hidden--visually\" id=\"sk-estimator-id-2\" type=\"checkbox\" checked><label for=\"sk-estimator-id-2\" class=\"sk-toggleable__label sk-toggleable__label-arrow\">DecisionTreeClassifier</label><div class=\"sk-toggleable__content\"><pre>DecisionTreeClassifier(criterion=&#x27;entropy&#x27;, max_depth=7, min_samples_leaf=11,\n",
       "                       min_samples_split=5, random_state=1)</pre></div></div></div></div></div>"
      ],
      "text/plain": [
       "DecisionTreeClassifier(criterion='entropy', max_depth=7, min_samples_leaf=11,\n",
       "                       min_samples_split=5, random_state=1)"
      ]
     },
     "execution_count": 53,
     "metadata": {},
     "output_type": "execute_result"
    }
   ],
   "source": [
    "reg_dc_model.fit(x_train,y_train)"
   ]
  },
  {
   "cell_type": "code",
   "execution_count": 54,
   "id": "b31cd136",
   "metadata": {},
   "outputs": [],
   "source": [
    "train_char_label = ['Not_Survived', 'Survived']\n",
    "Car_Crash_file = open('Car_Crash1.dot','w')\n",
    "dot_data = tree.export_graphviz(reg_dc_model, out_file=Car_Crash_file, feature_names = list(x_train), class_names = list(train_char_label))\n",
    "Car_Crash_file.close()\n"
   ]
  },
  {
   "cell_type": "code",
   "execution_count": 55,
   "id": "92105b1d",
   "metadata": {},
   "outputs": [],
   "source": [
    "train_predict=reg_dc_model.predict(x_train)"
   ]
  },
  {
   "cell_type": "code",
   "execution_count": 56,
   "id": "45c2fe91",
   "metadata": {},
   "outputs": [],
   "source": [
    "test_predict=reg_dc_model.predict(x_test)"
   ]
  },
  {
   "cell_type": "code",
   "execution_count": 57,
   "id": "01700765",
   "metadata": {},
   "outputs": [
    {
     "data": {
      "text/plain": [
       "array([[ 300,  497],\n",
       "       [ 133, 6921]], dtype=int64)"
      ]
     },
     "execution_count": 57,
     "metadata": {},
     "output_type": "execute_result"
    }
   ],
   "source": [
    "confusion_matrix(y_train,train_predict)"
   ]
  },
  {
   "cell_type": "code",
   "execution_count": 58,
   "id": "d0687f77",
   "metadata": {},
   "outputs": [
    {
     "name": "stdout",
     "output_type": "stream",
     "text": [
      "              precision    recall  f1-score   support\n",
      "\n",
      "           0       0.69      0.38      0.49       797\n",
      "           1       0.93      0.98      0.96      7054\n",
      "\n",
      "    accuracy                           0.92      7851\n",
      "   macro avg       0.81      0.68      0.72      7851\n",
      "weighted avg       0.91      0.92      0.91      7851\n",
      "\n"
     ]
    }
   ],
   "source": [
    "print(classification_report(y_train,train_predict))"
   ]
  },
  {
   "cell_type": "code",
   "execution_count": 59,
   "id": "82a60f26",
   "metadata": {},
   "outputs": [
    {
     "name": "stdout",
     "output_type": "stream",
     "text": [
      "AUC: 0.679\n"
     ]
    },
    {
     "data": {
      "image/png": "[encoded data removed]",
      "text/plain": [
       "<Figure size 640x480 with 1 Axes>"
      ]
     },
     "metadata": {},
     "output_type": "display_data"
    }
   ],
   "source": [
    "auc = roc_auc_score(y_train,train_predict)\n",
    "print('AUC: %.3f' % auc)\n",
    "# # calculate roc curve\n",
    "fpr, tpr, thresholds = roc_curve(y_train,train_predict)\n",
    "plt.plot([0, 1], [0, 1], linestyle='--')\n",
    "# plot the roc curve for the model\n",
    "plt.plot(fpr, tpr, marker='.')\n",
    "# show the plot\n",
    "plt.show()"
   ]
  },
  {
   "cell_type": "code",
   "execution_count": 60,
   "id": "326666ab",
   "metadata": {},
   "outputs": [
    {
     "data": {
      "text/plain": [
       "array([[ 133,  250],\n",
       "       [  75, 2908]], dtype=int64)"
      ]
     },
     "execution_count": 60,
     "metadata": {},
     "output_type": "execute_result"
    }
   ],
   "source": [
    "confusion_matrix(y_test,test_predict)"
   ]
  },
  {
   "cell_type": "code",
   "execution_count": 61,
   "id": "d3316e81",
   "metadata": {},
   "outputs": [
    {
     "name": "stdout",
     "output_type": "stream",
     "text": [
      "              precision    recall  f1-score   support\n",
      "\n",
      "           0       0.64      0.35      0.45       383\n",
      "           1       0.92      0.97      0.95      2983\n",
      "\n",
      "    accuracy                           0.90      3366\n",
      "   macro avg       0.78      0.66      0.70      3366\n",
      "weighted avg       0.89      0.90      0.89      3366\n",
      "\n"
     ]
    }
   ],
   "source": [
    "print(classification_report(y_test,test_predict))"
   ]
  },
  {
   "cell_type": "code",
   "execution_count": 62,
   "id": "9d166c46",
   "metadata": {},
   "outputs": [
    {
     "name": "stdout",
     "output_type": "stream",
     "text": [
      "AUC: 0.679\n"
     ]
    },
    {
     "data": {
      "image/png": "[encoded data removed]",
      "text/plain": [
       "<Figure size 640x480 with 1 Axes>"
      ]
     },
     "metadata": {},
     "output_type": "display_data"
    }
   ],
   "source": [
    "auc = roc_auc_score(y_test,test_pred)\n",
    "print('AUC: %.3f' % auc)\n",
    "# # calculate roc curve\n",
    "fpr, tpr, thresholds = roc_curve(y_train,train_pred)\n",
    "plt.plot([0, 1], [0, 1], linestyle='--')\n",
    "# plot the roc curve for the model\n",
    "plt.plot(fpr, tpr, marker='.')\n",
    "# show the plot\n",
    "plt.show()"
   ]
  },
  {
   "cell_type": "markdown",
   "id": "4d59418e",
   "metadata": {},
   "source": [
    "# Build ANN - Artificial Neural Network Model.(1 Marks)"
   ]
  },
  {
   "cell_type": "code",
   "execution_count": 63,
   "id": "6b73caf1",
   "metadata": {},
   "outputs": [],
   "source": [
    "sc=StandardScaler()\n"
   ]
  },
  {
   "cell_type": "code",
   "execution_count": 64,
   "id": "b182c3d0",
   "metadata": {},
   "outputs": [],
   "source": [
    "x_train = sc.fit_transform(x_train)"
   ]
  },
  {
   "cell_type": "code",
   "execution_count": 66,
   "id": "10a39d58",
   "metadata": {},
   "outputs": [
    {
     "data": {
      "text/plain": [
       "array([[ 0.28221081, -0.67507962,  1.29914516, ...,  1.16402835,\n",
       "        -0.52768957, -0.79001317],\n",
       "       [ 1.32781586, -0.52838572,  1.29914516, ...,  1.16402835,\n",
       "         1.89505358, -0.79001317],\n",
       "       [ 1.32781586, -0.77966361, -0.76973692, ..., -1.13590536,\n",
       "        -0.52768957,  1.26580168],\n",
       "       ...,\n",
       "       [-0.76339424, -0.34929078, -0.76973692, ..., -1.13590536,\n",
       "        -0.52768957,  1.26580168],\n",
       "       [-0.76339424, -0.80808035, -0.76973692, ..., -1.13590536,\n",
       "        -0.52768957,  1.26580168],\n",
       "       [-0.76339424, -0.66583635,  1.29914516, ...,  1.16402835,\n",
       "        -0.52768957, -0.79001317]])"
      ]
     },
     "execution_count": 66,
     "metadata": {},
     "output_type": "execute_result"
    }
   ],
   "source": [
    "x_train"
   ]
  },
  {
   "cell_type": "code",
   "execution_count": 65,
   "id": "7958f80e",
   "metadata": {},
   "outputs": [],
   "source": [
    "x_test = sc.transform(x_test)"
   ]
  },
  {
   "cell_type": "code",
   "execution_count": 67,
   "id": "1d7fa4e7",
   "metadata": {},
   "outputs": [
    {
     "data": {
      "text/plain": [
       "array([[-0.76339424, -0.36762083,  1.29914516, ...,  1.16402835,\n",
       "        -0.52768957, -0.79001317],\n",
       "       [ 1.32781586, -0.54282307,  1.29914516, ...,  1.16402835,\n",
       "        -0.52768957, -0.79001317],\n",
       "       [-0.76339424,  2.05487408, -0.76973692, ...,  0.0140615 ,\n",
       "        -0.52768957, -0.79001317],\n",
       "       ...,\n",
       "       [ 0.28221081, -0.75557464, -0.76973692, ...,  0.0140615 ,\n",
       "        -0.52768957, -0.79001317],\n",
       "       [-0.76339424, -0.19917359, -0.76973692, ...,  0.0140615 ,\n",
       "        -0.52768957, -0.79001317],\n",
       "       [ 1.32781586, -0.590253  ,  1.29914516, ...,  1.16402835,\n",
       "         1.89505358, -0.79001317]])"
      ]
     },
     "execution_count": 67,
     "metadata": {},
     "output_type": "execute_result"
    }
   ],
   "source": [
    "x_test "
   ]
  },
  {
   "cell_type": "code",
   "execution_count": 68,
   "id": "28c63a32",
   "metadata": {},
   "outputs": [],
   "source": [
    "clf = MLPClassifier(hidden_layer_sizes=100, max_iter=5000,\n",
    "                     solver='sgd', verbose=True,  random_state=21,tol=0.01)"
   ]
  },
  {
   "cell_type": "code",
   "execution_count": 69,
   "id": "bb9e6d47",
   "metadata": {},
   "outputs": [
    {
     "name": "stdout",
     "output_type": "stream",
     "text": [
      "Iteration 1, loss = 0.58003592\n",
      "Iteration 2, loss = 0.43443926\n",
      "Iteration 3, loss = 0.36993057\n",
      "Iteration 4, loss = 0.33753502\n",
      "Iteration 5, loss = 0.31777441\n",
      "Iteration 6, loss = 0.30380363\n",
      "Iteration 7, loss = 0.29311522\n",
      "Iteration 8, loss = 0.28436639\n",
      "Iteration 9, loss = 0.27707974\n",
      "Iteration 10, loss = 0.27074535\n",
      "Iteration 11, loss = 0.26520379\n",
      "Iteration 12, loss = 0.26029546\n",
      "Iteration 13, loss = 0.25595052\n",
      "Iteration 14, loss = 0.25205081\n",
      "Iteration 15, loss = 0.24854599\n",
      "Iteration 16, loss = 0.24534908\n",
      "Iteration 17, loss = 0.24244298\n",
      "Iteration 18, loss = 0.23981369\n",
      "Training loss did not improve more than tol=0.010000 for 10 consecutive epochs. Stopping.\n"
     ]
    },
    {
     "data": {
      "text/html": [
       "<style>#sk-container-id-3 {color: black;}#sk-container-id-3 pre{padding: 0;}#sk-container-id-3 div.sk-toggleable {background-color: white;}#sk-container-id-3 label.sk-toggleable__label {cursor: pointer;display: block;width: 100%;margin-bottom: 0;padding: 0.3em;box-sizing: border-box;text-align: center;}#sk-container-id-3 label.sk-toggleable__label-arrow:before {content: \"▸\";float: left;margin-right: 0.25em;color: #696969;}#sk-container-id-3 label.sk-toggleable__label-arrow:hover:before {color: black;}#sk-container-id-3 div.sk-estimator:hover label.sk-toggleable__label-arrow:before {color: black;}#sk-container-id-3 div.sk-toggleable__content {max-height: 0;max-width: 0;overflow: hidden;text-align: left;background-color: #f0f8ff;}#sk-container-id-3 div.sk-toggleable__content pre {margin: 0.2em;color: black;border-radius: 0.25em;background-color: #f0f8ff;}#sk-container-id-3 input.sk-toggleable__control:checked~div.sk-toggleable__content {max-height: 200px;max-width: 100%;overflow: auto;}#sk-container-id-3 input.sk-toggleable__control:checked~label.sk-toggleable__label-arrow:before {content: \"▾\";}#sk-container-id-3 div.sk-estimator input.sk-toggleable__control:checked~label.sk-toggleable__label {background-color: #d4ebff;}#sk-container-id-3 div.sk-label input.sk-toggleable__control:checked~label.sk-toggleable__label {background-color: #d4ebff;}#sk-container-id-3 input.sk-hidden--visually {border: 0;clip: rect(1px 1px 1px 1px);clip: rect(1px, 1px, 1px, 1px);height: 1px;margin: -1px;overflow: hidden;padding: 0;position: absolute;width: 1px;}#sk-container-id-3 div.sk-estimator {font-family: monospace;background-color: #f0f8ff;border: 1px dotted black;border-radius: 0.25em;box-sizing: border-box;margin-bottom: 0.5em;}#sk-container-id-3 div.sk-estimator:hover {background-color: #d4ebff;}#sk-container-id-3 div.sk-parallel-item::after {content: \"\";width: 100%;border-bottom: 1px solid gray;flex-grow: 1;}#sk-container-id-3 div.sk-label:hover label.sk-toggleable__label {background-color: #d4ebff;}#sk-container-id-3 div.sk-serial::before {content: \"\";position: absolute;border-left: 1px solid gray;box-sizing: border-box;top: 0;bottom: 0;left: 50%;z-index: 0;}#sk-container-id-3 div.sk-serial {display: flex;flex-direction: column;align-items: center;background-color: white;padding-right: 0.2em;padding-left: 0.2em;position: relative;}#sk-container-id-3 div.sk-item {position: relative;z-index: 1;}#sk-container-id-3 div.sk-parallel {display: flex;align-items: stretch;justify-content: center;background-color: white;position: relative;}#sk-container-id-3 div.sk-item::before, #sk-container-id-3 div.sk-parallel-item::before {content: \"\";position: absolute;border-left: 1px solid gray;box-sizing: border-box;top: 0;bottom: 0;left: 50%;z-index: -1;}#sk-container-id-3 div.sk-parallel-item {display: flex;flex-direction: column;z-index: 1;position: relative;background-color: white;}#sk-container-id-3 div.sk-parallel-item:first-child::after {align-self: flex-end;width: 50%;}#sk-container-id-3 div.sk-parallel-item:last-child::after {align-self: flex-start;width: 50%;}#sk-container-id-3 div.sk-parallel-item:only-child::after {width: 0;}#sk-container-id-3 div.sk-dashed-wrapped {border: 1px dashed gray;margin: 0 0.4em 0.5em 0.4em;box-sizing: border-box;padding-bottom: 0.4em;background-color: white;}#sk-container-id-3 div.sk-label label {font-family: monospace;font-weight: bold;display: inline-block;line-height: 1.2em;}#sk-container-id-3 div.sk-label-container {text-align: center;}#sk-container-id-3 div.sk-container {/* jupyter's `normalize.less` sets `[hidden] { display: none; }` but bootstrap.min.css set `[hidden] { display: none !important; }` so we also need the `!important` here to be able to override the default hidden behavior on the sphinx rendered scikit-learn.org. See: https://github.com/scikit-learn/scikit-learn/issues/21755 */display: inline-block !important;position: relative;}#sk-container-id-3 div.sk-text-repr-fallback {display: none;}</style><div id=\"sk-container-id-3\" class=\"sk-top-container\"><div class=\"sk-text-repr-fallback\"><pre>MLPClassifier(hidden_layer_sizes=100, max_iter=5000, random_state=21,\n",
       "              solver=&#x27;sgd&#x27;, tol=0.01, verbose=True)</pre><b>In a Jupyter environment, please rerun this cell to show the HTML representation or trust the notebook. <br />On GitHub, the HTML representation is unable to render, please try loading this page with nbviewer.org.</b></div><div class=\"sk-container\" hidden><div class=\"sk-item\"><div class=\"sk-estimator sk-toggleable\"><input class=\"sk-toggleable__control sk-hidden--visually\" id=\"sk-estimator-id-3\" type=\"checkbox\" checked><label for=\"sk-estimator-id-3\" class=\"sk-toggleable__label sk-toggleable__label-arrow\">MLPClassifier</label><div class=\"sk-toggleable__content\"><pre>MLPClassifier(hidden_layer_sizes=100, max_iter=5000, random_state=21,\n",
       "              solver=&#x27;sgd&#x27;, tol=0.01, verbose=True)</pre></div></div></div></div></div>"
      ],
      "text/plain": [
       "MLPClassifier(hidden_layer_sizes=100, max_iter=5000, random_state=21,\n",
       "              solver='sgd', tol=0.01, verbose=True)"
      ]
     },
     "execution_count": 69,
     "metadata": {},
     "output_type": "execute_result"
    }
   ],
   "source": [
    "clf.fit(x_train,y_train)"
   ]
  },
  {
   "cell_type": "code",
   "execution_count": 70,
   "id": "d7ffb9d6",
   "metadata": {},
   "outputs": [],
   "source": [
    "test_predict=clf.predict(x_test)"
   ]
  },
  {
   "cell_type": "code",
   "execution_count": 71,
   "id": "730cf2eb",
   "metadata": {},
   "outputs": [],
   "source": [
    "train_predict=clf.predict(x_train)"
   ]
  },
  {
   "cell_type": "code",
   "execution_count": 72,
   "id": "d8b5be75",
   "metadata": {},
   "outputs": [
    {
     "data": {
      "text/plain": [
       "array([[  23,  774],\n",
       "       [   8, 7046]], dtype=int64)"
      ]
     },
     "execution_count": 72,
     "metadata": {},
     "output_type": "execute_result"
    }
   ],
   "source": [
    "confusion_matrix(y_train,train_predict)"
   ]
  },
  {
   "cell_type": "code",
   "execution_count": 73,
   "id": "8edc78fd",
   "metadata": {},
   "outputs": [
    {
     "name": "stdout",
     "output_type": "stream",
     "text": [
      "              precision    recall  f1-score   support\n",
      "\n",
      "           0       0.74      0.03      0.06       797\n",
      "           1       0.90      1.00      0.95      7054\n",
      "\n",
      "    accuracy                           0.90      7851\n",
      "   macro avg       0.82      0.51      0.50      7851\n",
      "weighted avg       0.88      0.90      0.86      7851\n",
      "\n"
     ]
    }
   ],
   "source": [
    "print(classification_report(y_train,train_predict))"
   ]
  },
  {
   "cell_type": "code",
   "execution_count": 77,
   "id": "ac57aad5",
   "metadata": {},
   "outputs": [
    {
     "name": "stdout",
     "output_type": "stream",
     "text": [
      "AUC: 0.514\n"
     ]
    },
    {
     "data": {
      "image/png": "[encoded data removed]",
      "text/plain": [
       "<Figure size 640x480 with 1 Axes>"
      ]
     },
     "metadata": {},
     "output_type": "display_data"
    }
   ],
   "source": [
    "auc = roc_auc_score(y_train,train_predict)\n",
    "print('AUC: %.3f' % auc)\n",
    "# # calculate roc curve\n",
    "fpr, tpr, thresholds = roc_curve(y_test,test_predict)\n",
    "plt.plot([0, 1], [0, 1], linestyle='--')\n",
    "# plot the roc curve for the model\n",
    "plt.plot(fpr, tpr, marker='.')\n",
    "# show the plot\n",
    "plt.show()"
   ]
  },
  {
   "cell_type": "code",
   "execution_count": 74,
   "id": "0adc6f52",
   "metadata": {},
   "outputs": [
    {
     "data": {
      "text/plain": [
       "array([[  13,  370],\n",
       "       [   5, 2978]], dtype=int64)"
      ]
     },
     "execution_count": 74,
     "metadata": {},
     "output_type": "execute_result"
    }
   ],
   "source": [
    "confusion_matrix(y_test,test_predict)"
   ]
  },
  {
   "cell_type": "code",
   "execution_count": 75,
   "id": "08e884be",
   "metadata": {},
   "outputs": [
    {
     "name": "stdout",
     "output_type": "stream",
     "text": [
      "              precision    recall  f1-score   support\n",
      "\n",
      "           0       0.72      0.03      0.06       383\n",
      "           1       0.89      1.00      0.94      2983\n",
      "\n",
      "    accuracy                           0.89      3366\n",
      "   macro avg       0.81      0.52      0.50      3366\n",
      "weighted avg       0.87      0.89      0.84      3366\n",
      "\n"
     ]
    }
   ],
   "source": [
    "print(classification_report(y_test,test_predict))"
   ]
  },
  {
   "cell_type": "code",
   "execution_count": 76,
   "id": "d1d67b9b",
   "metadata": {},
   "outputs": [
    {
     "name": "stdout",
     "output_type": "stream",
     "text": [
      "AUC: 0.516\n"
     ]
    },
    {
     "data": {
      "image/png": "[encoded data removed]",
      "text/plain": [
       "<Figure size 640x480 with 1 Axes>"
      ]
     },
     "metadata": {},
     "output_type": "display_data"
    }
   ],
   "source": [
    "auc = roc_auc_score(y_test,test_predict)\n",
    "print('AUC: %.3f' % auc)\n",
    "# # calculate roc curve\n",
    "fpr, tpr, thresholds = roc_curve(y_test,test_predict)\n",
    "plt.plot([0, 1], [0, 1], linestyle='--')\n",
    "# plot the roc curve for the model\n",
    "plt.plot(fpr, tpr, marker='.')\n",
    "# show the plot\n",
    "plt.show()"
   ]
  },
  {
   "cell_type": "code",
   "execution_count": 78,
   "id": "ba3aa4dd",
   "metadata": {},
   "outputs": [],
   "source": [
    "params = {'hidden_layer_sizes':[100,200,300,400],\n",
    "         'max_iter':[1000,2000,3000,4000],\n",
    "          'solver':['lbfgs', 'sgd', 'adam'],\n",
    "         \"activation\":['identity', 'logistic', 'tanh', 'relu']}"
   ]
  },
  {
   "cell_type": "code",
   "execution_count": null,
   "id": "74127ec6",
   "metadata": {},
   "outputs": [
    {
     "name": "stdout",
     "output_type": "stream",
     "text": [
      "Fitting 5 folds for each of 192 candidates, totalling 960 fits\n"
     ]
    }
   ],
   "source": [
    "from sklearn.model_selection import GridSearchCV\n",
    "grid_Dec = GridSearchCV(MLPClassifier(),param_grid=params,verbose=True)\n",
    "grid_Dec.fit(x_train, y_train)"
   ]
  },
  {
   "cell_type": "code",
   "execution_count": null,
   "id": "5d26038c",
   "metadata": {},
   "outputs": [],
   "source": []
  },
  {
   "cell_type": "code",
   "execution_count": null,
   "id": "d7cd673b",
   "metadata": {},
   "outputs": [],
   "source": []
  },
  {
   "cell_type": "code",
   "execution_count": null,
   "id": "aa1ce145",
   "metadata": {},
   "outputs": [],
   "source": []
  },
  {
   "cell_type": "code",
   "execution_count": null,
   "id": "6f09b68c",
   "metadata": {},
   "outputs": [],
   "source": []
  }
 ],
 "metadata": {
  "kernelspec": {
   "display_name": "Python 3 (ipykernel)",
   "language": "python",
   "name": "python3"
  },
  "language_info": {
   "codemirror_mode": {
    "name": "ipython",
    "version": 3
   },
   "file_extension": ".py",
   "mimetype": "text/x-python",
   "name": "python",
   "nbconvert_exporter": "python",
   "pygments_lexer": "ipython3",
   "version": "3.11.4"
  }
 },
 "nbformat": 4,
 "nbformat_minor": 5
}
