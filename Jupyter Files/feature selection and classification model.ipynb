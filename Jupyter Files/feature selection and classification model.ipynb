{
 "cells": [
  {
   "cell_type": "code",
   "execution_count": null,
   "id": "47dc7524",
   "metadata": {},
   "outputs": [],
   "source": [
    "#Importing the Dependencies"
   ]
  },
  {
   "cell_type": "code",
   "execution_count": 1,
   "id": "730361c5",
   "metadata": {},
   "outputs": [],
   "source": [
    "import pandas as pd\n",
    "import numpy as np\n",
    "import seaborn as sns\n",
    "import matplotlib.pyplot as plt\n",
    "from sklearn.model_selection import train_test_split\n",
    "from sklearn.model_selection import cross_val_score\n",
    "from sklearn.metrics import accuracy_score,confusion_matrix,classification_report\n",
    "from scipy.stats import zscore\n"
   ]
  },
  {
   "cell_type": "code",
   "execution_count": 2,
   "id": "53652179",
   "metadata": {},
   "outputs": [],
   "source": [
    "#Importing the model"
   ]
  },
  {
   "cell_type": "code",
   "execution_count": 3,
   "id": "7bdaa9b2",
   "metadata": {},
   "outputs": [],
   "source": [
    "from sklearn.linear_model import LogisticRegression\n",
    "from sklearn.svm import SVC\n",
    "from sklearn.neighbors import KNeighborsClassifier\n",
    "from sklearn.ensemble import RandomForestClassifier"
   ]
  },
  {
   "cell_type": "code",
   "execution_count": 4,
   "id": "e5aea6c9",
   "metadata": {},
   "outputs": [],
   "source": [
    "from sklearn.feature_selection import SelectKBest\n",
    "from sklearn.feature_selection import chi2"
   ]
  },
  {
   "cell_type": "code",
   "execution_count": 5,
   "id": "ad832468",
   "metadata": {},
   "outputs": [],
   "source": [
    "df=pd.read_csv(r\"C:\\Users\\SKAN\\Downloads\\default.csv\")"
   ]
  },
  {
   "cell_type": "code",
   "execution_count": 6,
   "id": "5c7e5175",
   "metadata": {},
   "outputs": [
    {
     "data": {
      "text/html": [
       "<div>\n",
       "<style scoped>\n",
       "    .dataframe tbody tr th:only-of-type {\n",
       "        vertical-align: middle;\n",
       "    }\n",
       "\n",
       "    .dataframe tbody tr th {\n",
       "        vertical-align: top;\n",
       "    }\n",
       "\n",
       "    .dataframe thead th {\n",
       "        text-align: right;\n",
       "    }\n",
       "</style>\n",
       "<table border=\"1\" class=\"dataframe\">\n",
       "  <thead>\n",
       "    <tr style=\"text-align: right;\">\n",
       "      <th></th>\n",
       "      <th>Gender</th>\n",
       "      <th>LoanOffered</th>\n",
       "      <th>Job</th>\n",
       "      <th>WorkExp</th>\n",
       "      <th>CreditScore</th>\n",
       "      <th>EMIRatio</th>\n",
       "      <th>Status</th>\n",
       "      <th>CreditHistory</th>\n",
       "      <th>Ownhouse</th>\n",
       "      <th>Purpose</th>\n",
       "      <th>Dependents</th>\n",
       "    </tr>\n",
       "  </thead>\n",
       "  <tbody>\n",
       "    <tr>\n",
       "      <th>0</th>\n",
       "      <td>Male</td>\n",
       "      <td>0</td>\n",
       "      <td>unskilled</td>\n",
       "      <td>14</td>\n",
       "      <td>86</td>\n",
       "      <td>3.0</td>\n",
       "      <td>No</td>\n",
       "      <td>poor</td>\n",
       "      <td>1</td>\n",
       "      <td>personal</td>\n",
       "      <td>2</td>\n",
       "    </tr>\n",
       "    <tr>\n",
       "      <th>1</th>\n",
       "      <td>Female</td>\n",
       "      <td>1</td>\n",
       "      <td>skilled</td>\n",
       "      <td>15</td>\n",
       "      <td>94</td>\n",
       "      <td>3.0</td>\n",
       "      <td>No</td>\n",
       "      <td>poor</td>\n",
       "      <td>1</td>\n",
       "      <td>personal</td>\n",
       "      <td>3</td>\n",
       "    </tr>\n",
       "    <tr>\n",
       "      <th>2</th>\n",
       "      <td>Male</td>\n",
       "      <td>0</td>\n",
       "      <td>unskilled</td>\n",
       "      <td>16</td>\n",
       "      <td>86</td>\n",
       "      <td>3.0</td>\n",
       "      <td>No</td>\n",
       "      <td>poor</td>\n",
       "      <td>1</td>\n",
       "      <td>personal</td>\n",
       "      <td>2</td>\n",
       "    </tr>\n",
       "    <tr>\n",
       "      <th>3</th>\n",
       "      <td>Female</td>\n",
       "      <td>1</td>\n",
       "      <td>skilled</td>\n",
       "      <td>13</td>\n",
       "      <td>94</td>\n",
       "      <td>3.0</td>\n",
       "      <td>No</td>\n",
       "      <td>poor</td>\n",
       "      <td>1</td>\n",
       "      <td>personal</td>\n",
       "      <td>3</td>\n",
       "    </tr>\n",
       "    <tr>\n",
       "      <th>4</th>\n",
       "      <td>Male</td>\n",
       "      <td>1</td>\n",
       "      <td>skilled</td>\n",
       "      <td>12</td>\n",
       "      <td>85</td>\n",
       "      <td>3.3</td>\n",
       "      <td>No</td>\n",
       "      <td>poor</td>\n",
       "      <td>1</td>\n",
       "      <td>personal</td>\n",
       "      <td>2</td>\n",
       "    </tr>\n",
       "    <tr>\n",
       "      <th>...</th>\n",
       "      <td>...</td>\n",
       "      <td>...</td>\n",
       "      <td>...</td>\n",
       "      <td>...</td>\n",
       "      <td>...</td>\n",
       "      <td>...</td>\n",
       "      <td>...</td>\n",
       "      <td>...</td>\n",
       "      <td>...</td>\n",
       "      <td>...</td>\n",
       "      <td>...</td>\n",
       "    </tr>\n",
       "    <tr>\n",
       "      <th>776</th>\n",
       "      <td>Male</td>\n",
       "      <td>0</td>\n",
       "      <td>unskilled</td>\n",
       "      <td>2</td>\n",
       "      <td>46</td>\n",
       "      <td>14.7</td>\n",
       "      <td>Default</td>\n",
       "      <td>critical</td>\n",
       "      <td>0</td>\n",
       "      <td>consumerdurable</td>\n",
       "      <td>0</td>\n",
       "    </tr>\n",
       "    <tr>\n",
       "      <th>777</th>\n",
       "      <td>Male</td>\n",
       "      <td>0</td>\n",
       "      <td>unskilled</td>\n",
       "      <td>3</td>\n",
       "      <td>54</td>\n",
       "      <td>14.7</td>\n",
       "      <td>Default</td>\n",
       "      <td>good</td>\n",
       "      <td>0</td>\n",
       "      <td>car</td>\n",
       "      <td>0</td>\n",
       "    </tr>\n",
       "    <tr>\n",
       "      <th>778</th>\n",
       "      <td>Male</td>\n",
       "      <td>0</td>\n",
       "      <td>unskilled</td>\n",
       "      <td>3</td>\n",
       "      <td>51</td>\n",
       "      <td>14.8</td>\n",
       "      <td>Default</td>\n",
       "      <td>verygood</td>\n",
       "      <td>0</td>\n",
       "      <td>car</td>\n",
       "      <td>0</td>\n",
       "    </tr>\n",
       "    <tr>\n",
       "      <th>779</th>\n",
       "      <td>Male</td>\n",
       "      <td>0</td>\n",
       "      <td>unskilled</td>\n",
       "      <td>3</td>\n",
       "      <td>54</td>\n",
       "      <td>14.8</td>\n",
       "      <td>Default</td>\n",
       "      <td>good</td>\n",
       "      <td>0</td>\n",
       "      <td>car</td>\n",
       "      <td>0</td>\n",
       "    </tr>\n",
       "    <tr>\n",
       "      <th>780</th>\n",
       "      <td>Male</td>\n",
       "      <td>0</td>\n",
       "      <td>unskilled</td>\n",
       "      <td>3</td>\n",
       "      <td>51</td>\n",
       "      <td>14.8</td>\n",
       "      <td>Default</td>\n",
       "      <td>verygood</td>\n",
       "      <td>0</td>\n",
       "      <td>car</td>\n",
       "      <td>0</td>\n",
       "    </tr>\n",
       "  </tbody>\n",
       "</table>\n",
       "<p>781 rows × 11 columns</p>\n",
       "</div>"
      ],
      "text/plain": [
       "     Gender  LoanOffered        Job  WorkExp  CreditScore  EMIRatio   Status  \\\n",
       "0      Male            0  unskilled       14           86       3.0       No   \n",
       "1    Female            1    skilled       15           94       3.0       No   \n",
       "2      Male            0  unskilled       16           86       3.0       No   \n",
       "3    Female            1    skilled       13           94       3.0       No   \n",
       "4      Male            1    skilled       12           85       3.3       No   \n",
       "..      ...          ...        ...      ...          ...       ...      ...   \n",
       "776    Male            0  unskilled        2           46      14.7  Default   \n",
       "777    Male            0  unskilled        3           54      14.7  Default   \n",
       "778    Male            0  unskilled        3           51      14.8  Default   \n",
       "779    Male            0  unskilled        3           54      14.8  Default   \n",
       "780    Male            0  unskilled        3           51      14.8  Default   \n",
       "\n",
       "    CreditHistory  Ownhouse          Purpose  Dependents  \n",
       "0            poor         1         personal           2  \n",
       "1            poor         1         personal           3  \n",
       "2            poor         1         personal           2  \n",
       "3            poor         1         personal           3  \n",
       "4            poor         1         personal           2  \n",
       "..            ...       ...              ...         ...  \n",
       "776      critical         0  consumerdurable           0  \n",
       "777          good         0              car           0  \n",
       "778      verygood         0              car           0  \n",
       "779          good         0              car           0  \n",
       "780      verygood         0              car           0  \n",
       "\n",
       "[781 rows x 11 columns]"
      ]
     },
     "execution_count": 6,
     "metadata": {},
     "output_type": "execute_result"
    }
   ],
   "source": [
    "df"
   ]
  },
  {
   "cell_type": "code",
   "execution_count": 7,
   "id": "b1eb4fd3",
   "metadata": {},
   "outputs": [],
   "source": [
    "df=pd.get_dummies(df,drop_first=True)"
   ]
  },
  {
   "cell_type": "code",
   "execution_count": 8,
   "id": "ab4e8db5",
   "metadata": {},
   "outputs": [
    {
     "data": {
      "text/html": [
       "<div>\n",
       "<style scoped>\n",
       "    .dataframe tbody tr th:only-of-type {\n",
       "        vertical-align: middle;\n",
       "    }\n",
       "\n",
       "    .dataframe tbody tr th {\n",
       "        vertical-align: top;\n",
       "    }\n",
       "\n",
       "    .dataframe thead th {\n",
       "        text-align: right;\n",
       "    }\n",
       "</style>\n",
       "<table border=\"1\" class=\"dataframe\">\n",
       "  <thead>\n",
       "    <tr style=\"text-align: right;\">\n",
       "      <th></th>\n",
       "      <th>LoanOffered</th>\n",
       "      <th>WorkExp</th>\n",
       "      <th>CreditScore</th>\n",
       "      <th>EMIRatio</th>\n",
       "      <th>Ownhouse</th>\n",
       "      <th>Dependents</th>\n",
       "      <th>Gender_Male</th>\n",
       "      <th>Job_skilled</th>\n",
       "      <th>Job_unskilled</th>\n",
       "      <th>Status_No</th>\n",
       "      <th>CreditHistory_good</th>\n",
       "      <th>CreditHistory_poor</th>\n",
       "      <th>CreditHistory_verygood</th>\n",
       "      <th>Purpose_consumerdurable</th>\n",
       "      <th>Purpose_education</th>\n",
       "      <th>Purpose_personal</th>\n",
       "    </tr>\n",
       "  </thead>\n",
       "  <tbody>\n",
       "    <tr>\n",
       "      <th>0</th>\n",
       "      <td>0</td>\n",
       "      <td>14</td>\n",
       "      <td>86</td>\n",
       "      <td>3.0</td>\n",
       "      <td>1</td>\n",
       "      <td>2</td>\n",
       "      <td>1</td>\n",
       "      <td>0</td>\n",
       "      <td>1</td>\n",
       "      <td>1</td>\n",
       "      <td>0</td>\n",
       "      <td>1</td>\n",
       "      <td>0</td>\n",
       "      <td>0</td>\n",
       "      <td>0</td>\n",
       "      <td>1</td>\n",
       "    </tr>\n",
       "    <tr>\n",
       "      <th>1</th>\n",
       "      <td>1</td>\n",
       "      <td>15</td>\n",
       "      <td>94</td>\n",
       "      <td>3.0</td>\n",
       "      <td>1</td>\n",
       "      <td>3</td>\n",
       "      <td>0</td>\n",
       "      <td>1</td>\n",
       "      <td>0</td>\n",
       "      <td>1</td>\n",
       "      <td>0</td>\n",
       "      <td>1</td>\n",
       "      <td>0</td>\n",
       "      <td>0</td>\n",
       "      <td>0</td>\n",
       "      <td>1</td>\n",
       "    </tr>\n",
       "    <tr>\n",
       "      <th>2</th>\n",
       "      <td>0</td>\n",
       "      <td>16</td>\n",
       "      <td>86</td>\n",
       "      <td>3.0</td>\n",
       "      <td>1</td>\n",
       "      <td>2</td>\n",
       "      <td>1</td>\n",
       "      <td>0</td>\n",
       "      <td>1</td>\n",
       "      <td>1</td>\n",
       "      <td>0</td>\n",
       "      <td>1</td>\n",
       "      <td>0</td>\n",
       "      <td>0</td>\n",
       "      <td>0</td>\n",
       "      <td>1</td>\n",
       "    </tr>\n",
       "    <tr>\n",
       "      <th>3</th>\n",
       "      <td>1</td>\n",
       "      <td>13</td>\n",
       "      <td>94</td>\n",
       "      <td>3.0</td>\n",
       "      <td>1</td>\n",
       "      <td>3</td>\n",
       "      <td>0</td>\n",
       "      <td>1</td>\n",
       "      <td>0</td>\n",
       "      <td>1</td>\n",
       "      <td>0</td>\n",
       "      <td>1</td>\n",
       "      <td>0</td>\n",
       "      <td>0</td>\n",
       "      <td>0</td>\n",
       "      <td>1</td>\n",
       "    </tr>\n",
       "    <tr>\n",
       "      <th>4</th>\n",
       "      <td>1</td>\n",
       "      <td>12</td>\n",
       "      <td>85</td>\n",
       "      <td>3.3</td>\n",
       "      <td>1</td>\n",
       "      <td>2</td>\n",
       "      <td>1</td>\n",
       "      <td>1</td>\n",
       "      <td>0</td>\n",
       "      <td>1</td>\n",
       "      <td>0</td>\n",
       "      <td>1</td>\n",
       "      <td>0</td>\n",
       "      <td>0</td>\n",
       "      <td>0</td>\n",
       "      <td>1</td>\n",
       "    </tr>\n",
       "    <tr>\n",
       "      <th>...</th>\n",
       "      <td>...</td>\n",
       "      <td>...</td>\n",
       "      <td>...</td>\n",
       "      <td>...</td>\n",
       "      <td>...</td>\n",
       "      <td>...</td>\n",
       "      <td>...</td>\n",
       "      <td>...</td>\n",
       "      <td>...</td>\n",
       "      <td>...</td>\n",
       "      <td>...</td>\n",
       "      <td>...</td>\n",
       "      <td>...</td>\n",
       "      <td>...</td>\n",
       "      <td>...</td>\n",
       "      <td>...</td>\n",
       "    </tr>\n",
       "    <tr>\n",
       "      <th>776</th>\n",
       "      <td>0</td>\n",
       "      <td>2</td>\n",
       "      <td>46</td>\n",
       "      <td>14.7</td>\n",
       "      <td>0</td>\n",
       "      <td>0</td>\n",
       "      <td>1</td>\n",
       "      <td>0</td>\n",
       "      <td>1</td>\n",
       "      <td>0</td>\n",
       "      <td>0</td>\n",
       "      <td>0</td>\n",
       "      <td>0</td>\n",
       "      <td>1</td>\n",
       "      <td>0</td>\n",
       "      <td>0</td>\n",
       "    </tr>\n",
       "    <tr>\n",
       "      <th>777</th>\n",
       "      <td>0</td>\n",
       "      <td>3</td>\n",
       "      <td>54</td>\n",
       "      <td>14.7</td>\n",
       "      <td>0</td>\n",
       "      <td>0</td>\n",
       "      <td>1</td>\n",
       "      <td>0</td>\n",
       "      <td>1</td>\n",
       "      <td>0</td>\n",
       "      <td>1</td>\n",
       "      <td>0</td>\n",
       "      <td>0</td>\n",
       "      <td>0</td>\n",
       "      <td>0</td>\n",
       "      <td>0</td>\n",
       "    </tr>\n",
       "    <tr>\n",
       "      <th>778</th>\n",
       "      <td>0</td>\n",
       "      <td>3</td>\n",
       "      <td>51</td>\n",
       "      <td>14.8</td>\n",
       "      <td>0</td>\n",
       "      <td>0</td>\n",
       "      <td>1</td>\n",
       "      <td>0</td>\n",
       "      <td>1</td>\n",
       "      <td>0</td>\n",
       "      <td>0</td>\n",
       "      <td>0</td>\n",
       "      <td>1</td>\n",
       "      <td>0</td>\n",
       "      <td>0</td>\n",
       "      <td>0</td>\n",
       "    </tr>\n",
       "    <tr>\n",
       "      <th>779</th>\n",
       "      <td>0</td>\n",
       "      <td>3</td>\n",
       "      <td>54</td>\n",
       "      <td>14.8</td>\n",
       "      <td>0</td>\n",
       "      <td>0</td>\n",
       "      <td>1</td>\n",
       "      <td>0</td>\n",
       "      <td>1</td>\n",
       "      <td>0</td>\n",
       "      <td>1</td>\n",
       "      <td>0</td>\n",
       "      <td>0</td>\n",
       "      <td>0</td>\n",
       "      <td>0</td>\n",
       "      <td>0</td>\n",
       "    </tr>\n",
       "    <tr>\n",
       "      <th>780</th>\n",
       "      <td>0</td>\n",
       "      <td>3</td>\n",
       "      <td>51</td>\n",
       "      <td>14.8</td>\n",
       "      <td>0</td>\n",
       "      <td>0</td>\n",
       "      <td>1</td>\n",
       "      <td>0</td>\n",
       "      <td>1</td>\n",
       "      <td>0</td>\n",
       "      <td>0</td>\n",
       "      <td>0</td>\n",
       "      <td>1</td>\n",
       "      <td>0</td>\n",
       "      <td>0</td>\n",
       "      <td>0</td>\n",
       "    </tr>\n",
       "  </tbody>\n",
       "</table>\n",
       "<p>781 rows × 16 columns</p>\n",
       "</div>"
      ],
      "text/plain": [
       "     LoanOffered  WorkExp  CreditScore  EMIRatio  Ownhouse  Dependents  \\\n",
       "0              0       14           86       3.0         1           2   \n",
       "1              1       15           94       3.0         1           3   \n",
       "2              0       16           86       3.0         1           2   \n",
       "3              1       13           94       3.0         1           3   \n",
       "4              1       12           85       3.3         1           2   \n",
       "..           ...      ...          ...       ...       ...         ...   \n",
       "776            0        2           46      14.7         0           0   \n",
       "777            0        3           54      14.7         0           0   \n",
       "778            0        3           51      14.8         0           0   \n",
       "779            0        3           54      14.8         0           0   \n",
       "780            0        3           51      14.8         0           0   \n",
       "\n",
       "     Gender_Male  Job_skilled  Job_unskilled  Status_No  CreditHistory_good  \\\n",
       "0              1            0              1          1                   0   \n",
       "1              0            1              0          1                   0   \n",
       "2              1            0              1          1                   0   \n",
       "3              0            1              0          1                   0   \n",
       "4              1            1              0          1                   0   \n",
       "..           ...          ...            ...        ...                 ...   \n",
       "776            1            0              1          0                   0   \n",
       "777            1            0              1          0                   1   \n",
       "778            1            0              1          0                   0   \n",
       "779            1            0              1          0                   1   \n",
       "780            1            0              1          0                   0   \n",
       "\n",
       "     CreditHistory_poor  CreditHistory_verygood  Purpose_consumerdurable  \\\n",
       "0                     1                       0                        0   \n",
       "1                     1                       0                        0   \n",
       "2                     1                       0                        0   \n",
       "3                     1                       0                        0   \n",
       "4                     1                       0                        0   \n",
       "..                  ...                     ...                      ...   \n",
       "776                   0                       0                        1   \n",
       "777                   0                       0                        0   \n",
       "778                   0                       1                        0   \n",
       "779                   0                       0                        0   \n",
       "780                   0                       1                        0   \n",
       "\n",
       "     Purpose_education  Purpose_personal  \n",
       "0                    0                 1  \n",
       "1                    0                 1  \n",
       "2                    0                 1  \n",
       "3                    0                 1  \n",
       "4                    0                 1  \n",
       "..                 ...               ...  \n",
       "776                  0                 0  \n",
       "777                  0                 0  \n",
       "778                  0                 0  \n",
       "779                  0                 0  \n",
       "780                  0                 0  \n",
       "\n",
       "[781 rows x 16 columns]"
      ]
     },
     "execution_count": 8,
     "metadata": {},
     "output_type": "execute_result"
    }
   ],
   "source": [
    "df"
   ]
  },
  {
   "cell_type": "code",
   "execution_count": 10,
   "id": "104d4a3c",
   "metadata": {},
   "outputs": [
    {
     "data": {
      "text/plain": [
       "LoanOffered                  int64\n",
       "WorkExp                      int64\n",
       "CreditScore                  int64\n",
       "EMIRatio                   float64\n",
       "Ownhouse                     int64\n",
       "Dependents                   int64\n",
       "Gender_Male                  uint8\n",
       "Job_skilled                  uint8\n",
       "Job_unskilled                uint8\n",
       "Status_No                    uint8\n",
       "CreditHistory_good           uint8\n",
       "CreditHistory_poor           uint8\n",
       "CreditHistory_verygood       uint8\n",
       "Purpose_consumerdurable      uint8\n",
       "Purpose_education            uint8\n",
       "Purpose_personal             uint8\n",
       "dtype: object"
      ]
     },
     "execution_count": 10,
     "metadata": {},
     "output_type": "execute_result"
    }
   ],
   "source": [
    "df.dtypes"
   ]
  },
  {
   "cell_type": "code",
   "execution_count": 9,
   "id": "e2a5ff37",
   "metadata": {},
   "outputs": [],
   "source": [
    "x=df.drop(columns=\"Status_No\",axis=1)\n",
    "y=df[\"Status_No\"]"
   ]
  },
  {
   "cell_type": "code",
   "execution_count": null,
   "id": "8a6d81f5",
   "metadata": {},
   "outputs": [],
   "source": []
  },
  {
   "cell_type": "code",
   "execution_count": 10,
   "id": "2b73bef9",
   "metadata": {},
   "outputs": [],
   "source": [
    "bestfeatures=SelectKBest(score_func=chi2,k=10)\n",
    "fit=bestfeatures.fit(x,y)"
   ]
  },
  {
   "cell_type": "code",
   "execution_count": 11,
   "id": "0a02a54d",
   "metadata": {},
   "outputs": [],
   "source": [
    "df_scores=pd.DataFrame(fit.scores_)\n",
    "df_columns=pd.DataFrame(x.columns)"
   ]
  },
  {
   "cell_type": "code",
   "execution_count": 12,
   "id": "d0918754",
   "metadata": {},
   "outputs": [
    {
     "name": "stdout",
     "output_type": "stream",
     "text": [
      "                          0\n",
      "0               LoanOffered\n",
      "1                   WorkExp\n",
      "2               CreditScore\n",
      "3                  EMIRatio\n",
      "4                  Ownhouse\n",
      "5                Dependents\n",
      "6               Gender_Male\n",
      "7               Job_skilled\n",
      "8             Job_unskilled\n",
      "9        CreditHistory_good\n",
      "10       CreditHistory_poor\n",
      "11   CreditHistory_verygood\n",
      "12  Purpose_consumerdurable\n",
      "13        Purpose_education\n",
      "14         Purpose_personal\n"
     ]
    }
   ],
   "source": [
    "print(df_columns)"
   ]
  },
  {
   "cell_type": "code",
   "execution_count": 13,
   "id": "01e1988e",
   "metadata": {},
   "outputs": [
    {
     "name": "stdout",
     "output_type": "stream",
     "text": [
      "             0\n",
      "0     0.890154\n",
      "1   289.349136\n",
      "2   595.246283\n",
      "3    62.354929\n",
      "4   111.960568\n",
      "5   114.556099\n",
      "6     0.721760\n",
      "7     2.673348\n",
      "8     2.718495\n",
      "9     0.673295\n",
      "10   29.085253\n",
      "11   11.697158\n",
      "12    0.017617\n",
      "13    0.239560\n",
      "14    0.379920\n"
     ]
    }
   ],
   "source": [
    "print(df_scores)"
   ]
  },
  {
   "cell_type": "code",
   "execution_count": 14,
   "id": "f81d8c11",
   "metadata": {},
   "outputs": [],
   "source": [
    "df1=pd.concat([df_columns,df_scores],axis=1)\n",
    "df1.columns=[\"specs\",\"score\"]"
   ]
  },
  {
   "cell_type": "code",
   "execution_count": 15,
   "id": "bbed49aa",
   "metadata": {},
   "outputs": [
    {
     "data": {
      "text/html": [
       "<div>\n",
       "<style scoped>\n",
       "    .dataframe tbody tr th:only-of-type {\n",
       "        vertical-align: middle;\n",
       "    }\n",
       "\n",
       "    .dataframe tbody tr th {\n",
       "        vertical-align: top;\n",
       "    }\n",
       "\n",
       "    .dataframe thead th {\n",
       "        text-align: right;\n",
       "    }\n",
       "</style>\n",
       "<table border=\"1\" class=\"dataframe\">\n",
       "  <thead>\n",
       "    <tr style=\"text-align: right;\">\n",
       "      <th></th>\n",
       "      <th>specs</th>\n",
       "      <th>score</th>\n",
       "    </tr>\n",
       "  </thead>\n",
       "  <tbody>\n",
       "    <tr>\n",
       "      <th>0</th>\n",
       "      <td>LoanOffered</td>\n",
       "      <td>0.890154</td>\n",
       "    </tr>\n",
       "    <tr>\n",
       "      <th>1</th>\n",
       "      <td>WorkExp</td>\n",
       "      <td>289.349136</td>\n",
       "    </tr>\n",
       "    <tr>\n",
       "      <th>2</th>\n",
       "      <td>CreditScore</td>\n",
       "      <td>595.246283</td>\n",
       "    </tr>\n",
       "    <tr>\n",
       "      <th>3</th>\n",
       "      <td>EMIRatio</td>\n",
       "      <td>62.354929</td>\n",
       "    </tr>\n",
       "    <tr>\n",
       "      <th>4</th>\n",
       "      <td>Ownhouse</td>\n",
       "      <td>111.960568</td>\n",
       "    </tr>\n",
       "    <tr>\n",
       "      <th>5</th>\n",
       "      <td>Dependents</td>\n",
       "      <td>114.556099</td>\n",
       "    </tr>\n",
       "    <tr>\n",
       "      <th>6</th>\n",
       "      <td>Gender_Male</td>\n",
       "      <td>0.721760</td>\n",
       "    </tr>\n",
       "    <tr>\n",
       "      <th>7</th>\n",
       "      <td>Job_skilled</td>\n",
       "      <td>2.673348</td>\n",
       "    </tr>\n",
       "    <tr>\n",
       "      <th>8</th>\n",
       "      <td>Job_unskilled</td>\n",
       "      <td>2.718495</td>\n",
       "    </tr>\n",
       "    <tr>\n",
       "      <th>9</th>\n",
       "      <td>CreditHistory_good</td>\n",
       "      <td>0.673295</td>\n",
       "    </tr>\n",
       "    <tr>\n",
       "      <th>10</th>\n",
       "      <td>CreditHistory_poor</td>\n",
       "      <td>29.085253</td>\n",
       "    </tr>\n",
       "    <tr>\n",
       "      <th>11</th>\n",
       "      <td>CreditHistory_verygood</td>\n",
       "      <td>11.697158</td>\n",
       "    </tr>\n",
       "    <tr>\n",
       "      <th>12</th>\n",
       "      <td>Purpose_consumerdurable</td>\n",
       "      <td>0.017617</td>\n",
       "    </tr>\n",
       "    <tr>\n",
       "      <th>13</th>\n",
       "      <td>Purpose_education</td>\n",
       "      <td>0.239560</td>\n",
       "    </tr>\n",
       "    <tr>\n",
       "      <th>14</th>\n",
       "      <td>Purpose_personal</td>\n",
       "      <td>0.379920</td>\n",
       "    </tr>\n",
       "  </tbody>\n",
       "</table>\n",
       "</div>"
      ],
      "text/plain": [
       "                      specs       score\n",
       "0               LoanOffered    0.890154\n",
       "1                   WorkExp  289.349136\n",
       "2               CreditScore  595.246283\n",
       "3                  EMIRatio   62.354929\n",
       "4                  Ownhouse  111.960568\n",
       "5                Dependents  114.556099\n",
       "6               Gender_Male    0.721760\n",
       "7               Job_skilled    2.673348\n",
       "8             Job_unskilled    2.718495\n",
       "9        CreditHistory_good    0.673295\n",
       "10       CreditHistory_poor   29.085253\n",
       "11   CreditHistory_verygood   11.697158\n",
       "12  Purpose_consumerdurable    0.017617\n",
       "13        Purpose_education    0.239560\n",
       "14         Purpose_personal    0.379920"
      ]
     },
     "execution_count": 15,
     "metadata": {},
     "output_type": "execute_result"
    }
   ],
   "source": [
    "df1"
   ]
  },
  {
   "cell_type": "code",
   "execution_count": 16,
   "id": "2d23293f",
   "metadata": {},
   "outputs": [
    {
     "name": "stdout",
     "output_type": "stream",
     "text": [
      "                     specs       score\n",
      "2              CreditScore  595.246283\n",
      "1                  WorkExp  289.349136\n",
      "5               Dependents  114.556099\n",
      "4                 Ownhouse  111.960568\n",
      "3                 EMIRatio   62.354929\n",
      "10      CreditHistory_poor   29.085253\n",
      "11  CreditHistory_verygood   11.697158\n",
      "8            Job_unskilled    2.718495\n",
      "7              Job_skilled    2.673348\n",
      "0              LoanOffered    0.890154\n"
     ]
    }
   ],
   "source": [
    "print(df1.nlargest(10,'score'))"
   ]
  },
  {
   "cell_type": "code",
   "execution_count": 17,
   "id": "56688f76",
   "metadata": {},
   "outputs": [
    {
     "data": {
      "text/plain": [
       "Index(['LoanOffered', 'WorkExp', 'CreditScore', 'EMIRatio', 'Ownhouse',\n",
       "       'Dependents', 'Gender_Male', 'Job_skilled', 'Job_unskilled',\n",
       "       'Status_No', 'CreditHistory_good', 'CreditHistory_poor',\n",
       "       'CreditHistory_verygood', 'Purpose_consumerdurable',\n",
       "       'Purpose_education', 'Purpose_personal'],\n",
       "      dtype='object')"
      ]
     },
     "execution_count": 17,
     "metadata": {},
     "output_type": "execute_result"
    }
   ],
   "source": [
    "df.columns"
   ]
  },
  {
   "cell_type": "code",
   "execution_count": 18,
   "id": "715c6f5a",
   "metadata": {},
   "outputs": [],
   "source": [
    "x=df[[\"CreditScore\",\"WorkExp\",\"Dependents\",\"Ownhouse\",\"EMIRatio\",\"CreditHistory_poor\",\"CreditHistory_verygood\"]]\n",
    "y=df[\"Status_No\"]"
   ]
  },
  {
   "cell_type": "code",
   "execution_count": 77,
   "id": "53c45a47",
   "metadata": {},
   "outputs": [
    {
     "name": "stdout",
     "output_type": "stream",
     "text": [
      "     CreditScore   WorkExp  Dependents  Ownhouse  EMIRatio  \\\n",
      "0       0.199627  0.426162   -0.076732  0.549242 -2.332070   \n",
      "1       0.864482  0.688855    0.859636  0.549242 -2.332070   \n",
      "2       0.199627  0.951548   -0.076732  0.549242 -2.332070   \n",
      "3       0.864482  0.163469    0.859636  0.549242 -2.332070   \n",
      "4       0.116520 -0.099225   -0.076732  0.549242 -2.224353   \n",
      "..           ...       ...         ...       ...       ...   \n",
      "776    -3.124648 -2.726157   -1.949467 -1.820691  1.868883   \n",
      "777    -2.459793 -2.463464   -1.949467 -1.820691  1.868883   \n",
      "778    -2.709114 -2.463464   -1.949467 -1.820691  1.904789   \n",
      "779    -2.459793 -2.463464   -1.949467 -1.820691  1.904789   \n",
      "780    -2.709114 -2.463464   -1.949467 -1.820691  1.904789   \n",
      "\n",
      "     CreditHistory_poor  CreditHistory_verygood  \n",
      "0              2.655475               -0.716635  \n",
      "1              2.655475               -0.716635  \n",
      "2              2.655475               -0.716635  \n",
      "3              2.655475               -0.716635  \n",
      "4              2.655475               -0.716635  \n",
      "..                  ...                     ...  \n",
      "776           -0.376580               -0.716635  \n",
      "777           -0.376580               -0.716635  \n",
      "778           -0.376580                1.395410  \n",
      "779           -0.376580               -0.716635  \n",
      "780           -0.376580                1.395410  \n",
      "\n",
      "[781 rows x 7 columns]\n"
     ]
    }
   ],
   "source": [
    "x_scaled=zscore(x)\n",
    "print(x_scaled)"
   ]
  },
  {
   "cell_type": "code",
   "execution_count": 73,
   "id": "60d8e16e",
   "metadata": {},
   "outputs": [],
   "source": [
    "x_train,x_test,y_train,y_test=train_test_split(x_scaled,y,test_size=0.30,random_state=1)"
   ]
  },
  {
   "cell_type": "code",
   "execution_count": 87,
   "id": "9ca1df54",
   "metadata": {},
   "outputs": [
    {
     "name": "stdout",
     "output_type": "stream",
     "text": [
      "x and y Train Dataset shape: (546, 7) (546,)\n"
     ]
    }
   ],
   "source": [
    "print(\"x and y Train Dataset shape:\", x_train.shape,y_train.shape)"
   ]
  },
  {
   "cell_type": "code",
   "execution_count": 88,
   "id": "5e4d1e49",
   "metadata": {},
   "outputs": [
    {
     "name": "stdout",
     "output_type": "stream",
     "text": [
      "x and y Test Dataset shape: (235, 7) (235,)\n"
     ]
    }
   ],
   "source": [
    "print(\"x and y Test Dataset shape:\", x_test.shape,y_test.shape)"
   ]
  },
  {
   "cell_type": "code",
   "execution_count": null,
   "id": "4be8a839",
   "metadata": {},
   "outputs": [],
   "source": [
    "#To build some classification models by using user defined function to find which model is better"
   ]
  },
  {
   "cell_type": "code",
   "execution_count": null,
   "id": "3c062244",
   "metadata": {},
   "outputs": [],
   "source": [
    "#Initialising some models in a list"
   ]
  },
  {
   "cell_type": "code",
   "execution_count": 82,
   "id": "ffb09dcc",
   "metadata": {},
   "outputs": [],
   "source": [
    "models=[LogisticRegression(max_iter=500),KNeighborsClassifier(),SVC(kernel='linear'),RandomForestClassifier()]"
   ]
  },
  {
   "cell_type": "code",
   "execution_count": null,
   "id": "b6e6864f",
   "metadata": {},
   "outputs": [],
   "source": [
    "#user defined function for training data prediction and to calculate their metrics"
   ]
  },
  {
   "cell_type": "code",
   "execution_count": 83,
   "id": "9c90c196",
   "metadata": {},
   "outputs": [],
   "source": [
    "def compare_models_train():\n",
    "    for model in models:\n",
    "        #training the model\n",
    "        model.fit(x_train,y_train)\n",
    "        #evaluating the model\n",
    "        train_data_prediction=model.predict(x_train)\n",
    "        accuracy=accuracy_score(y_train,train_data_prediction)\n",
    "        con_mat=confusion_matrix(y_train,train_data_prediction)\n",
    "        \n",
    "        print(\"Metrics of \",model)\n",
    "        \n",
    "        print(\"\\n Accuracy_score of the\", model,\"=\", accuracy,\"\\n\")       \n",
    "              \n",
    "        \n",
    "        print(\"\\n Confusion_matrix  of the\", model,\"=\", con_mat)\n",
    "       \n",
    "        print(\"\\n Heat map of\",model)\n",
    "        sns.heatmap((confusion_matrix(y_train,train_data_prediction)),annot=True,fmt='05g')\n",
    "        plt.xlabel('Predicted')\n",
    "        plt.ylabel('Actuals')\n",
    "        plt.show()\n",
    "        \n",
    "        print(\" Classification_Report of \",model)\n",
    "        print(\"\\n\",classification_report(y_train,train_data_prediction))\n",
    "        print(\"----------------------------------------------------------------------------------\")"
   ]
  },
  {
   "cell_type": "code",
   "execution_count": 84,
   "id": "392a8e55",
   "metadata": {},
   "outputs": [
    {
     "name": "stdout",
     "output_type": "stream",
     "text": [
      "Metrics of  LogisticRegression(max_iter=500)\n",
      "\n",
      " Accuracy_score of the LogisticRegression(max_iter=500) = 0.9761904761904762 \n",
      "\n",
      "\n",
      " Confusion_matrix  of the LogisticRegression(max_iter=500) = [[ 76   8]\n",
      " [  5 457]]\n",
      "\n",
      " Heat map of LogisticRegression(max_iter=500)\n"
     ]
    },
    {
     "data": {
      "image/png": "[encoded data removed]",
      "text/plain": [
       "<Figure size 640x480 with 2 Axes>"
      ]
     },
     "metadata": {},
     "output_type": "display_data"
    },
    {
     "name": "stdout",
     "output_type": "stream",
     "text": [
      " Classification_Report of  LogisticRegression(max_iter=500)\n",
      "\n",
      "               precision    recall  f1-score   support\n",
      "\n",
      "           0       0.94      0.90      0.92        84\n",
      "           1       0.98      0.99      0.99       462\n",
      "\n",
      "    accuracy                           0.98       546\n",
      "   macro avg       0.96      0.95      0.95       546\n",
      "weighted avg       0.98      0.98      0.98       546\n",
      "\n",
      "----------------------------------------------------------------------------------\n",
      "Metrics of  KNeighborsClassifier()\n",
      "\n",
      " Accuracy_score of the KNeighborsClassifier() = 0.9816849816849816 \n",
      "\n",
      "\n",
      " Confusion_matrix  of the KNeighborsClassifier() = [[ 80   4]\n",
      " [  6 456]]\n",
      "\n",
      " Heat map of KNeighborsClassifier()\n"
     ]
    },
    {
     "data": {
      "image/png": "[encoded data removed]",
      "text/plain": [
       "<Figure size 640x480 with 2 Axes>"
      ]
     },
     "metadata": {},
     "output_type": "display_data"
    },
    {
     "name": "stdout",
     "output_type": "stream",
     "text": [
      " Classification_Report of  KNeighborsClassifier()\n",
      "\n",
      "               precision    recall  f1-score   support\n",
      "\n",
      "           0       0.93      0.95      0.94        84\n",
      "           1       0.99      0.99      0.99       462\n",
      "\n",
      "    accuracy                           0.98       546\n",
      "   macro avg       0.96      0.97      0.97       546\n",
      "weighted avg       0.98      0.98      0.98       546\n",
      "\n",
      "----------------------------------------------------------------------------------\n",
      "Metrics of  SVC(kernel='linear')\n",
      "\n",
      " Accuracy_score of the SVC(kernel='linear') = 0.978021978021978 \n",
      "\n",
      "\n",
      " Confusion_matrix  of the SVC(kernel='linear') = [[ 76   8]\n",
      " [  4 458]]\n",
      "\n",
      " Heat map of SVC(kernel='linear')\n"
     ]
    },
    {
     "data": {
      "image/png": "[encoded data removed]",
      "text/plain": [
       "<Figure size 640x480 with 2 Axes>"
      ]
     },
     "metadata": {},
     "output_type": "display_data"
    },
    {
     "name": "stdout",
     "output_type": "stream",
     "text": [
      " Classification_Report of  SVC(kernel='linear')\n",
      "\n",
      "               precision    recall  f1-score   support\n",
      "\n",
      "           0       0.95      0.90      0.93        84\n",
      "           1       0.98      0.99      0.99       462\n",
      "\n",
      "    accuracy                           0.98       546\n",
      "   macro avg       0.97      0.95      0.96       546\n",
      "weighted avg       0.98      0.98      0.98       546\n",
      "\n",
      "----------------------------------------------------------------------------------\n",
      "Metrics of  RandomForestClassifier()\n",
      "\n",
      " Accuracy_score of the RandomForestClassifier() = 1.0 \n",
      "\n",
      "\n",
      " Confusion_matrix  of the RandomForestClassifier() = [[ 84   0]\n",
      " [  0 462]]\n",
      "\n",
      " Heat map of RandomForestClassifier()\n"
     ]
    },
    {
     "data": {
      "image/png": "[encoded data removed]",
      "text/plain": [
       "<Figure size 640x480 with 2 Axes>"
      ]
     },
     "metadata": {},
     "output_type": "display_data"
    },
    {
     "name": "stdout",
     "output_type": "stream",
     "text": [
      " Classification_Report of  RandomForestClassifier()\n",
      "\n",
      "               precision    recall  f1-score   support\n",
      "\n",
      "           0       1.00      1.00      1.00        84\n",
      "           1       1.00      1.00      1.00       462\n",
      "\n",
      "    accuracy                           1.00       546\n",
      "   macro avg       1.00      1.00      1.00       546\n",
      "weighted avg       1.00      1.00      1.00       546\n",
      "\n",
      "----------------------------------------------------------------------------------\n"
     ]
    }
   ],
   "source": [
    "compare_models_train()"
   ]
  },
  {
   "cell_type": "code",
   "execution_count": 89,
   "id": "8d25825d",
   "metadata": {},
   "outputs": [],
   "source": [
    "#user defined function for testing data prediction and to calculate their metrics"
   ]
  },
  {
   "cell_type": "code",
   "execution_count": 90,
   "id": "05c30c8c",
   "metadata": {},
   "outputs": [],
   "source": [
    "def compare_models_test():\n",
    "    for model in models:\n",
    "        #training the model\n",
    "        model.fit(x_train,y_train)\n",
    "        #evaluating the model\n",
    "        test_data_prediction=model.predict(x_test)\n",
    "        accuracy=accuracy_score(y_test,test_data_prediction)\n",
    "        con_mat=confusion_matrix(y_test,test_data_prediction)\n",
    "        \n",
    "        print(\"Metrics of \",model)\n",
    "        \n",
    "        print(\"\\n Accuracy_score of the\", model,\"=\", accuracy,\"\\n\")       \n",
    "              \n",
    "        \n",
    "        print(\"\\n Confusion_matrix  of the\", model,\"=\", con_mat)\n",
    "       \n",
    "        print(\"\\n Heat map of\",model)\n",
    "        sns.heatmap((confusion_matrix(y_test,test_data_prediction)),annot=True,fmt='05g')\n",
    "        plt.xlabel('Predicted')\n",
    "        plt.ylabel('Actuals')\n",
    "        plt.show()\n",
    "        \n",
    "        print(\" Classification_Report of \",model)\n",
    "        print(\"\\n\",classification_report(y_test,test_data_prediction))\n",
    "        print(\"----------------------------------------------------------------------------------\")"
   ]
  },
  {
   "cell_type": "code",
   "execution_count": 86,
   "id": "6d3fc9c2",
   "metadata": {},
   "outputs": [
    {
     "name": "stdout",
     "output_type": "stream",
     "text": [
      "Metrics of  LogisticRegression(max_iter=500)\n",
      "\n",
      " Accuracy_score of the LogisticRegression(max_iter=500) = 0.9787234042553191 \n",
      "\n",
      "\n",
      " Confusion_matrix  of the LogisticRegression(max_iter=500) = [[ 38   3]\n",
      " [  2 192]]\n",
      "\n",
      " Heat map of LogisticRegression(max_iter=500)\n"
     ]
    },
    {
     "data": {
      "image/png": "[encoded data removed]",
      "text/plain": [
       "<Figure size 640x480 with 2 Axes>"
      ]
     },
     "metadata": {},
     "output_type": "display_data"
    },
    {
     "name": "stdout",
     "output_type": "stream",
     "text": [
      " Classification_Report of  LogisticRegression(max_iter=500)\n",
      "\n",
      "               precision    recall  f1-score   support\n",
      "\n",
      "           0       0.95      0.93      0.94        41\n",
      "           1       0.98      0.99      0.99       194\n",
      "\n",
      "    accuracy                           0.98       235\n",
      "   macro avg       0.97      0.96      0.96       235\n",
      "weighted avg       0.98      0.98      0.98       235\n",
      "\n",
      "----------------------------------------------------------------------------------\n",
      "Metrics of  KNeighborsClassifier()\n",
      "\n",
      " Accuracy_score of the KNeighborsClassifier() = 0.9872340425531915 \n",
      "\n",
      "\n",
      " Confusion_matrix  of the KNeighborsClassifier() = [[ 40   1]\n",
      " [  2 192]]\n",
      "\n",
      " Heat map of KNeighborsClassifier()\n"
     ]
    },
    {
     "data": {
      "image/png": "[encoded data removed]",
      "text/plain": [
       "<Figure size 640x480 with 2 Axes>"
      ]
     },
     "metadata": {},
     "output_type": "display_data"
    },
    {
     "name": "stdout",
     "output_type": "stream",
     "text": [
      " Classification_Report of  KNeighborsClassifier()\n",
      "\n",
      "               precision    recall  f1-score   support\n",
      "\n",
      "           0       0.95      0.98      0.96        41\n",
      "           1       0.99      0.99      0.99       194\n",
      "\n",
      "    accuracy                           0.99       235\n",
      "   macro avg       0.97      0.98      0.98       235\n",
      "weighted avg       0.99      0.99      0.99       235\n",
      "\n",
      "----------------------------------------------------------------------------------\n",
      "Metrics of  SVC(kernel='linear')\n",
      "\n",
      " Accuracy_score of the SVC(kernel='linear') = 0.9744680851063829 \n",
      "\n",
      "\n",
      " Confusion_matrix  of the SVC(kernel='linear') = [[ 38   3]\n",
      " [  3 191]]\n",
      "\n",
      " Heat map of SVC(kernel='linear')\n"
     ]
    },
    {
     "data": {
      "image/png": "[encoded data removed]",
      "text/plain": [
       "<Figure size 640x480 with 2 Axes>"
      ]
     },
     "metadata": {},
     "output_type": "display_data"
    },
    {
     "name": "stdout",
     "output_type": "stream",
     "text": [
      " Classification_Report of  SVC(kernel='linear')\n",
      "\n",
      "               precision    recall  f1-score   support\n",
      "\n",
      "           0       0.93      0.93      0.93        41\n",
      "           1       0.98      0.98      0.98       194\n",
      "\n",
      "    accuracy                           0.97       235\n",
      "   macro avg       0.96      0.96      0.96       235\n",
      "weighted avg       0.97      0.97      0.97       235\n",
      "\n",
      "----------------------------------------------------------------------------------\n",
      "Metrics of  RandomForestClassifier()\n",
      "\n",
      " Accuracy_score of the RandomForestClassifier() = 0.9872340425531915 \n",
      "\n",
      "\n",
      " Confusion_matrix  of the RandomForestClassifier() = [[ 39   2]\n",
      " [  1 193]]\n",
      "\n",
      " Heat map of RandomForestClassifier()\n"
     ]
    },
    {
     "data": {
      "image/png": "[encoded data removed]",
      "text/plain": [
       "<Figure size 640x480 with 2 Axes>"
      ]
     },
     "metadata": {},
     "output_type": "display_data"
    },
    {
     "name": "stdout",
     "output_type": "stream",
     "text": [
      " Classification_Report of  RandomForestClassifier()\n",
      "\n",
      "               precision    recall  f1-score   support\n",
      "\n",
      "           0       0.97      0.95      0.96        41\n",
      "           1       0.99      0.99      0.99       194\n",
      "\n",
      "    accuracy                           0.99       235\n",
      "   macro avg       0.98      0.97      0.98       235\n",
      "weighted avg       0.99      0.99      0.99       235\n",
      "\n",
      "----------------------------------------------------------------------------------\n"
     ]
    }
   ],
   "source": [
    "compare_models_train_test()"
   ]
  },
  {
   "cell_type": "code",
   "execution_count": null,
   "id": "bddd3531",
   "metadata": {},
   "outputs": [],
   "source": []
  },
  {
   "cell_type": "code",
   "execution_count": null,
   "id": "68ee325a",
   "metadata": {},
   "outputs": [],
   "source": []
  }
 ],
 "metadata": {
  "kernelspec": {
   "display_name": "Python 3 (ipykernel)",
   "language": "python",
   "name": "python3"
  },
  "language_info": {
   "codemirror_mode": {
    "name": "ipython",
    "version": 3
   },
   "file_extension": ".py",
   "mimetype": "text/x-python",
   "name": "python",
   "nbconvert_exporter": "python",
   "pygments_lexer": "ipython3",
   "version": "3.11.4"
  }
 },
 "nbformat": 4,
 "nbformat_minor": 5
}
