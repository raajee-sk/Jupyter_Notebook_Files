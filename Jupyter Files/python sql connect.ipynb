{
 "cells": [
  {
   "cell_type": "code",
   "execution_count": 1,
   "id": "905eceb3",
   "metadata": {},
   "outputs": [],
   "source": [
    "import pandas as pd \n",
    "import numpy as np\n",
    "import pymysql"
   ]
  },
  {
   "cell_type": "code",
   "execution_count": 2,
   "id": "638c4265",
   "metadata": {},
   "outputs": [
    {
     "name": "stdout",
     "output_type": "stream",
     "text": [
      "Requirement already satisfied: pymysql in c:\\users\\skan\\anaconda3\\lib\\site-packages (1.1.0)Note: you may need to restart the kernel to use updated packages.\n",
      "\n"
     ]
    }
   ],
   "source": [
    "pip install pymysql"
   ]
  },
  {
   "cell_type": "code",
   "execution_count": 3,
   "id": "b2323907",
   "metadata": {},
   "outputs": [],
   "source": [
    "myconnection=pymysql.connect(host='127.0.0.1',user='root',passwd='atx1c1d1')"
   ]
  },
  {
   "cell_type": "code",
   "execution_count": 4,
   "id": "3408bc5b",
   "metadata": {},
   "outputs": [],
   "source": [
    "cur=myconnection.cursor()"
   ]
  },
  {
   "cell_type": "code",
   "execution_count": null,
   "id": "ac43c76e",
   "metadata": {},
   "outputs": [],
   "source": [
    "cur.execute(\"create database jailer\")"
   ]
  },
  {
   "cell_type": "code",
   "execution_count": null,
   "id": "154d69df",
   "metadata": {},
   "outputs": [],
   "source": [
    "myconnection=pymysql.connect(host='127.0.0.1',user='root',passwd='atx1c1d1',database='jailer')"
   ]
  },
  {
   "cell_type": "code",
   "execution_count": null,
   "id": "d804d801",
   "metadata": {},
   "outputs": [],
   "source": [
    "cur=myconnection.cursor()"
   ]
  },
  {
   "cell_type": "code",
   "execution_count": null,
   "id": "e6b3da83",
   "metadata": {},
   "outputs": [],
   "source": [
    "df=pd.read_csv(r\"C:\\Users\\SKAN\\Downloads\\car_prices.csv\")"
   ]
  },
  {
   "cell_type": "code",
   "execution_count": null,
   "id": "88416821",
   "metadata": {},
   "outputs": [],
   "source": [
    "df"
   ]
  },
  {
   "cell_type": "code",
   "execution_count": null,
   "id": "49f590bb",
   "metadata": {},
   "outputs": [],
   "source": [
    "cur.execute(\"create table rajini(make varchar(20),model varchar(20),year int,mileage int,price int,color varchar(10),state varchar(10))\")"
   ]
  },
  {
   "cell_type": "code",
   "execution_count": null,
   "id": "3bec891b",
   "metadata": {},
   "outputs": [],
   "source": [
    "sql = \"insert into rajini (make,model,year,mileage,price,color,state) values (%s,%s,%s,%s,%s,%s,%s)\""
   ]
  },
  {
   "cell_type": "code",
   "execution_count": null,
   "id": "da563b9f",
   "metadata": {},
   "outputs": [],
   "source": [
    "for i in range(0,len(df)):\n",
    "    cur.execute(sql,tuple(df.iloc[i]))\n",
    "    myconnection.commit()"
   ]
  },
  {
   "cell_type": "code",
   "execution_count": null,
   "id": "31e1cce7",
   "metadata": {},
   "outputs": [],
   "source": [
    "pd.read_sql_query(\"select make,model,avg(price) from rajini group by make,model\",myconnection)"
   ]
  },
  {
   "cell_type": "code",
   "execution_count": null,
   "id": "4f5f390a",
   "metadata": {},
   "outputs": [],
   "source": []
  },
  {
   "cell_type": "code",
   "execution_count": null,
   "id": "21e762b4",
   "metadata": {},
   "outputs": [],
   "source": []
  }
 ],
 "metadata": {
  "kernelspec": {
   "display_name": "Python 3 (ipykernel)",
   "language": "python",
   "name": "python3"
  },
  "language_info": {
   "codemirror_mode": {
    "name": "ipython",
    "version": 3
   },
   "file_extension": ".py",
   "mimetype": "text/x-python",
   "name": "python",
   "nbconvert_exporter": "python",
   "pygments_lexer": "ipython3",
   "version": "3.11.4"
  }
 },
 "nbformat": 4,
 "nbformat_minor": 5
}
